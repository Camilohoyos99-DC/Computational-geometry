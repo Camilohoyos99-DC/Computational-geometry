{
 "cells": [
  {
   "cell_type": "code",
   "execution_count": 1,
   "id": "0c77cbff",
   "metadata": {},
   "outputs": [],
   "source": [
    "import numpy as np\n",
    "import matplotlib.pyplot as plt\n"
   ]
  },
  {
   "cell_type": "code",
   "execution_count": 2,
   "id": "f6dbd948",
   "metadata": {},
   "outputs": [],
   "source": [
    "class Node:\n",
    "    \n",
    "    def __init__(self,data):\n",
    "        self.data = data\n",
    "        self.left = None\n",
    "        self.right = None\n",
    "def insertBST(root, node):\n",
    "    if(node.data < root.data):\n",
    "        if root.left is None:\n",
    "            root.left = node\n",
    "        else:\n",
    "            insertBST(root.left, node)\n",
    "    else :\n",
    "        if root.right is None:\n",
    "            root.right = node\n",
    "        else: insertBST(root.right, node)\n",
    "        "
   ]
  },
  {
   "cell_type": "code",
   "execution_count": 8,
   "id": "88266e2d",
   "metadata": {},
   "outputs": [],
   "source": [
    "x = [25, 75,50, 10, 100, 15, 0, 30, 200, 40]"
   ]
  },
  {
   "cell_type": "code",
   "execution_count": 4,
   "id": "b42def7d",
   "metadata": {},
   "outputs": [],
   "source": [
    "xc = x.copy()\n",
    "root = Node(xc[0])\n",
    "xc.pop(0)\n",
    "while len(xc):\n",
    "    insertBST(root, Node(xc[0]))\n",
    "    xc.pop(0)"
   ]
  },
  {
   "cell_type": "code",
   "execution_count": 5,
   "id": "f01ffb75",
   "metadata": {},
   "outputs": [
    {
     "data": {
      "text/plain": [
       "0"
      ]
     },
     "execution_count": 5,
     "metadata": {},
     "output_type": "execute_result"
    }
   ],
   "source": [
    "root.left.left.data"
   ]
  },
  {
   "cell_type": "code",
   "execution_count": 6,
   "id": "f8db366f",
   "metadata": {},
   "outputs": [],
   "source": [
    "def preOrder(node):\n",
    "    \n",
    "    if not node:\n",
    "        return\n",
    "    print(node.data)\n",
    "    preOrder(node.left)\n",
    "    preOrder(node.right)"
   ]
  },
  {
   "cell_type": "code",
   "execution_count": 7,
   "id": "cd0e967f",
   "metadata": {},
   "outputs": [
    {
     "name": "stdout",
     "output_type": "stream",
     "text": [
      "25\n",
      "10\n",
      "0\n",
      "15\n",
      "75\n",
      "50\n",
      "30\n",
      "40\n",
      "100\n",
      "200\n"
     ]
    }
   ],
   "source": [
    "preOrder(root)"
   ]
  },
  {
   "cell_type": "code",
   "execution_count": 28,
   "id": "2f1de981",
   "metadata": {},
   "outputs": [],
   "source": [
    "def inorder(root):\n",
    "    inorderArr = []\n",
    "    if root.left is not None:\n",
    "        leftInorderArr = inorder(root.left)\n",
    "        inorderArr.extend(leftInorderArr) #agregar varios elementos de una secuencia al final de la lista\n",
    "        \n",
    "    inorderArr.append(root.data)\n",
    "    if root.right is not None:\n",
    "        rightInorderArr = inorder(root.right)\n",
    "        inorderArr.extend(rightInorderArr)\n",
    "        \n",
    "    return inorderArr\n",
    "        "
   ]
  },
  {
   "cell_type": "code",
   "execution_count": 34,
   "id": "8f8caab4",
   "metadata": {},
   "outputs": [],
   "source": [
    "def depht(root):\n",
    "    if root is None:\n",
    "        return- 1\n",
    "    leftAns = depht(root.left)\n",
    "    rightAns = depht(root.right)\n",
    "    \n",
    "    return max(leftAns, rightAns) + 1"
   ]
  },
  {
   "cell_type": "code",
   "execution_count": 35,
   "id": "1931488f",
   "metadata": {},
   "outputs": [
    {
     "data": {
      "text/plain": [
       "[0, 10, 15, 25, 30, 40, 50, 75, 100, 200]"
      ]
     },
     "execution_count": 35,
     "metadata": {},
     "output_type": "execute_result"
    }
   ],
   "source": [
    "inorder(root)"
   ]
  },
  {
   "cell_type": "code",
   "execution_count": 36,
   "id": "921d9258",
   "metadata": {},
   "outputs": [
    {
     "data": {
      "text/plain": [
       "4"
      ]
     },
     "execution_count": 36,
     "metadata": {},
     "output_type": "execute_result"
    }
   ],
   "source": [
    "depht(root)"
   ]
  },
  {
   "cell_type": "code",
   "execution_count": 38,
   "id": "9aa846d2",
   "metadata": {},
   "outputs": [],
   "source": [
    "def BBT(sortedArr):\n",
    "    if not sortedArr:\n",
    "        return None\n",
    "    \n",
    "    mid = int(len(sortedArr)/2)\n",
    "    \n",
    "    newRoot = Node(sortedArr[mid])\n",
    "    newRoot.left = BBT(sortedArr[:mid])\n",
    "    newRoot.right = BBT(sortedArr[mid + 1:])\n",
    "    \n",
    "    return newRoot\n",
    "                   "
   ]
  },
  {
   "cell_type": "code",
   "execution_count": 1,
   "id": "986287b8",
   "metadata": {},
   "outputs": [
    {
     "ename": "NameError",
     "evalue": "name 'BBT' is not defined",
     "output_type": "error",
     "traceback": [
      "\u001b[1;31m---------------------------------------------------------------------------\u001b[0m",
      "\u001b[1;31mNameError\u001b[0m                                 Traceback (most recent call last)",
      "Cell \u001b[1;32mIn[1], line 1\u001b[0m\n\u001b[1;32m----> 1\u001b[0m root2 \u001b[38;5;241m=\u001b[39m \u001b[43mBBT\u001b[49m(inorder(root))\n\u001b[0;32m      2\u001b[0m root2\n",
      "\u001b[1;31mNameError\u001b[0m: name 'BBT' is not defined"
     ]
    }
   ],
   "source": [
    "root2 = BBT(inorder(root))\n",
    "root2"
   ]
  },
  {
   "cell_type": "code",
   "execution_count": 42,
   "id": "36dc44db",
   "metadata": {},
   "outputs": [
    {
     "name": "stdout",
     "output_type": "stream",
     "text": [
      "40\n",
      "15\n",
      "10\n",
      "0\n",
      "30\n",
      "25\n",
      "100\n",
      "75\n",
      "50\n",
      "200\n"
     ]
    }
   ],
   "source": [
    "preOrder(root2)"
   ]
  }
 ],
 "metadata": {
  "kernelspec": {
   "display_name": "Python 3 (ipykernel)",
   "language": "python",
   "name": "python3"
  },
  "language_info": {
   "codemirror_mode": {
    "name": "ipython",
    "version": 3
   },
   "file_extension": ".py",
   "mimetype": "text/x-python",
   "name": "python",
   "nbconvert_exporter": "python",
   "pygments_lexer": "ipython3",
   "version": "3.10.9"
  }
 },
 "nbformat": 4,
 "nbformat_minor": 5
}
