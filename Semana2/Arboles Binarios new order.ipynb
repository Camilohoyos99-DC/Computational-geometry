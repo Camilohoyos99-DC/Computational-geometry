{
 "cells": [
  {
   "cell_type": "code",
   "execution_count": 1,
   "id": "4a518e7b",
   "metadata": {},
   "outputs": [],
   "source": [
    "import numpy as np\n",
    "import matplotlib.pyplot as plt\n"
   ]
  },
  {
   "cell_type": "code",
   "execution_count": 2,
   "id": "4b40cb89",
   "metadata": {},
   "outputs": [],
   "source": [
    "class Node:\n",
    "    def __init__(self, data, name =None, left=None, right=None):\n",
    "        self.data = data\n",
    "        self.left = left\n",
    "        self.right = right\n",
    "        self.name = name\n",
    "        \n",
    "class Point:\n",
    "    def __init__(self,cordinates,name):\n",
    "        self.x = cordinates[0]\n",
    "        self.y = cordinates[1]\n",
    "        self.name = name\n",
    "\n",
    "    def __repr__(self):\n",
    "        return (f\"({self.x}, {self.y})\" )\n",
    "\n",
    "    def __str__(self):\n",
    "        return (self.name)\n",
    "    \n",
    "    def __lt__(self, other): #definimos el menor\n",
    "        if not isinstance(other, Point):\n",
    "            raise ValueError(\"Cannot compare Point with non-Point object\")\n",
    "        return (self.y > other.y or (self.y == other.y and self.x < other.x))\n",
    "    \n",
    "    def __eq__(self, other):#definimos la igualdad\n",
    "        if not isinstance(other, Point):\n",
    "            return False\n",
    "        return self.x == other.x and self.y == other.y\n",
    "    \n",
    "    def __le__(self, other):\n",
    "        if not isinstance(other, Point):\n",
    "            raise ValueError(\"Cannot compare Point with non-Point object\")\n",
    "        return self.__lt__(other) or self.__eq__(other)\n",
    "\n",
    "    \n",
    "    @classmethod\n",
    "    def generate_random_points(cls,n):\n",
    "        random_points = []\n",
    "        for i in range(n):\n",
    "            x = np.round(np.random.uniform(0, 100),4)\n",
    "            y = np.round(np.random.uniform(0, 100),4)\n",
    "            random_points.append(cls((x,y),f'P{i}'))\n",
    "        return random_points        \n",
    "        \n",
    "        \n",
    "class Arbol:\n",
    "    def __init__(self, nodes):\n",
    "        if isinstance(nodes, (int, float, tuple, Point)):\n",
    "            if isinstance(nodes, Point):\n",
    "                nodes = [nodes]  # Convertir el objeto Point en una lista de un solo elemento\n",
    "            self.root = Node(nodes.pop(0))\n",
    "            \n",
    "            while len(nodes) > 0:\n",
    "                node = Node(nodes.pop(0))\n",
    "                self._construirArbol(self.root, node)\n",
    "        elif isinstance(nodes, Node):\n",
    "            self.root = nodes\n",
    "        else:\n",
    "            self.root = Node(nodes.pop(0))\n",
    "            while len(nodes) > 0:\n",
    "                node = Node(nodes.pop(0))\n",
    "                self._construirArbol(self.root, node)\n",
    "                \n",
    "    def _construirArbol(self, root, node):\n",
    "        if node.data <= root.data:\n",
    "            if root.left == None: root.left = node\n",
    "            else: return(self._construirArbol(root.left, node))\n",
    "                \n",
    "        else:\n",
    "            if root.right == None: root.right = node\n",
    "            else: return(self._construirArbol(root.right, node))\n",
    "            \n",
    "    \n",
    "    def preOrder(self, node, result=None):\n",
    "        if result is None:\n",
    "            result = []\n",
    "        if node is not None:\n",
    "            result.append(node.data)\n",
    "            self.preOrder(node.left, result)\n",
    "            self.preOrder(node.right, result)\n",
    "        return result\n",
    "    \n",
    "    \n",
    "    def inOrder(self, node, result=None):\n",
    "        if result is None:\n",
    "            result = []\n",
    "        if node is not None:\n",
    "            self.inOrder(node.left, result)\n",
    "            result.append(node.data)\n",
    "            self.inOrder(node.right, result)\n",
    "        return result\n",
    "    \n",
    "    def postOrder(self, node, result=None):\n",
    "        if result is None:\n",
    "            result = []\n",
    "        if node is not None:\n",
    "            self.postOrder(node.left, result)\n",
    "            self.postOrder(node.right, result)\n",
    "            result.append(node.data)\n",
    "            \n",
    "        return result\n",
    "    def depht(self, node, count = None):\n",
    "        if node is None:\n",
    "            return -1\n",
    "        leftAns = self.depht(node.left)\n",
    "        rightAns = self.depht(node.right)\n",
    "        count = max(leftAns, rightAns) + 1\n",
    "        return count\n",
    "   \n",
    "    \n",
    "    def is_balance(self, node):\n",
    "        if node is None:\n",
    "            return True\n",
    "        dephtLeft = self.depht(node.left)\n",
    "        dephtRight = self.depht(node.right)\n",
    "        return abs(dephtLeft - dephtRight) <= 1 #and self.is_balance(node.left) and \\\n",
    "                                                    #self.is_balance(node.right)\n",
    "\n",
    "            \n",
    "    def balanceo(self):\n",
    "        if not self.is_balance(self.root):\n",
    "            list_order = self.inOrder(self.root)\n",
    "            new_root = self._BBT(list_order)\n",
    "            self.root = new_root\n",
    "     \n",
    "    def _BBT(self, sortedArr):\n",
    "        if not sortedArr:\n",
    "            return None\n",
    "        mid = int(len(sortedArr) / 2)\n",
    "        new_node = Node(sortedArr[mid])\n",
    "        new_node.left = self._BBT(sortedArr[:mid])\n",
    "        new_node.right = self._BBT(sortedArr[mid + 1:])\n",
    "        return new_node\n",
    "    \n",
    "    \n",
    "    def insert(self,node):\n",
    "        if not isinstance(node, Node): node = Node(node)\n",
    "        self._insert_element(self.root, node)\n",
    "        if not self.is_balance(self.root):\n",
    "            self.balanceo()\n",
    "            \n",
    "            \n",
    "    def _insert_element(self, root, node):\n",
    "        \n",
    "        if node.data <= root.data and root.left == None:root.left = node #casos base para la insersion\n",
    "        elif root.data < node.data and root.right == None:root.right = node\n",
    "            \n",
    "        elif node.data <= root.data:return self._insert_element(root.left, node)\n",
    "        elif root.data < node.data:return self._insert_element(root.right, node)\n",
    "        \n",
    "            "
   ]
  },
  {
   "cell_type": "code",
   "execution_count": 3,
   "id": "4a2a5f0b",
   "metadata": {},
   "outputs": [
    {
     "data": {
      "text/plain": [
       "False"
      ]
     },
     "execution_count": 3,
     "metadata": {},
     "output_type": "execute_result"
    }
   ],
   "source": [
    "#points = Point.generate_random_points(100)\n",
    "p5 = Point((6,1),'p5')\n",
    "p4 = Point((5,2),'p4')\n",
    "p3 = Point((4,4),'p3')\n",
    "p2 = Point((2,6),'p2')\n",
    "p1 = Point((1,7),'p1')\n",
    "points = [p5, p4, p3, p2, p1]\n",
    "arbol = Arbol(points)\n",
    "arbol.is_balance(arbol.root)"
   ]
  },
  {
   "cell_type": "code",
   "execution_count": 4,
   "id": "81043b34",
   "metadata": {},
   "outputs": [
    {
     "data": {
      "text/plain": [
       "[(6, 1), (5, 2), (4, 4), (2, 6), (1, 7)]"
      ]
     },
     "execution_count": 4,
     "metadata": {},
     "output_type": "execute_result"
    }
   ],
   "source": [
    "arbol.preOrder(arbol.root)\n"
   ]
  },
  {
   "cell_type": "code",
   "execution_count": 5,
   "id": "47edf6ee",
   "metadata": {},
   "outputs": [
    {
     "data": {
      "text/plain": [
       "[(4, 4), (2, 6), (1, 7), (6, 1), (5, 2)]"
      ]
     },
     "execution_count": 5,
     "metadata": {},
     "output_type": "execute_result"
    }
   ],
   "source": [
    "arbol.balanceo()\n",
    "arbol.preOrder(arbol.root)"
   ]
  },
  {
   "cell_type": "code",
   "execution_count": 6,
   "id": "8cce1aab",
   "metadata": {},
   "outputs": [
    {
     "data": {
      "text/plain": [
       "<__main__.Node at 0x1eae0da5a50>"
      ]
     },
     "execution_count": 6,
     "metadata": {},
     "output_type": "execute_result"
    }
   ],
   "source": [
    "arbol.root.left\n"
   ]
  },
  {
   "cell_type": "code",
   "execution_count": 7,
   "id": "3813b60b",
   "metadata": {},
   "outputs": [
    {
     "data": {
      "text/plain": [
       "True"
      ]
     },
     "execution_count": 7,
     "metadata": {},
     "output_type": "execute_result"
    }
   ],
   "source": [
    "arbol.is_balance(arbol.root)"
   ]
  },
  {
   "cell_type": "code",
   "execution_count": 8,
   "id": "3e1e4259",
   "metadata": {},
   "outputs": [],
   "source": [
    "p6 = Point((1,9),'p6')\n",
    "arbol.insert(p6)"
   ]
  },
  {
   "cell_type": "code",
   "execution_count": 9,
   "id": "c477968b",
   "metadata": {},
   "outputs": [
    {
     "name": "stdout",
     "output_type": "stream",
     "text": [
      "[(4, 4), (2, 6), (1, 7), (1, 9), (6, 1), (5, 2)]\n"
     ]
    }
   ],
   "source": [
    "print(arbol.preOrder(arbol.root))"
   ]
  },
  {
   "cell_type": "code",
   "execution_count": 10,
   "id": "c5344ad3",
   "metadata": {},
   "outputs": [
    {
     "data": {
      "text/plain": [
       "True"
      ]
     },
     "execution_count": 10,
     "metadata": {},
     "output_type": "execute_result"
    }
   ],
   "source": [
    "arbol.is_balance(arbol.root)"
   ]
  },
  {
   "cell_type": "code",
   "execution_count": 11,
   "id": "65cf08a7",
   "metadata": {},
   "outputs": [
    {
     "data": {
      "text/plain": [
       "[(1, 9), (1, 7), (2, 6), (4, 4), (5, 2), (6, 1)]"
      ]
     },
     "execution_count": 11,
     "metadata": {},
     "output_type": "execute_result"
    }
   ],
   "source": [
    "arbol.inOrder(arbol.root)"
   ]
  },
  {
   "cell_type": "markdown",
   "id": "fe886fd2",
   "metadata": {},
   "source": [
    "# preguntar si la insersión y balanceo son correctos"
   ]
  },
  {
   "cell_type": "code",
   "execution_count": null,
   "id": "7a046ba0",
   "metadata": {},
   "outputs": [],
   "source": []
  },
  {
   "cell_type": "code",
   "execution_count": null,
   "id": "c9c25ea8",
   "metadata": {},
   "outputs": [],
   "source": []
  }
 ],
 "metadata": {
  "kernelspec": {
   "display_name": "Python 3 (ipykernel)",
   "language": "python",
   "name": "python3"
  },
  "language_info": {
   "codemirror_mode": {
    "name": "ipython",
    "version": 3
   },
   "file_extension": ".py",
   "mimetype": "text/x-python",
   "name": "python",
   "nbconvert_exporter": "python",
   "pygments_lexer": "ipython3",
   "version": "3.10.9"
  }
 },
 "nbformat": 4,
 "nbformat_minor": 5
}
