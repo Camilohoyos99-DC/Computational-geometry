{
 "cells": [
  {
   "cell_type": "markdown",
   "metadata": {},
   "source": []
  },
  {
   "cell_type": "code",
   "execution_count": 3,
   "metadata": {},
   "outputs": [],
   "source": [
    "import numpy as np\n",
    "import pandas as pd\n",
    "import matplotlib.pyplot as plt\n",
    "import seaborn as sns"
   ]
  },
  {
   "cell_type": "code",
   "execution_count": 4,
   "metadata": {},
   "outputs": [],
   "source": [
    "class Points:\n",
    "    def __init__(self, coordinates, label=None):\n",
    "        self.x = coordinates[0]\n",
    "        self.y = coordinates[1]\n",
    "        self.label = label\n",
    "    \n",
    "    def __lt__(self, other):\n",
    "        \"\"\"Define la relación de orden entre dos puntos.\"\"\"\n",
    "        return (self.y > other.y) or (self.y == other.y and self.x < other.x)\n",
    "\n",
    "    def __str__(self):\n",
    "        return f\"{self.label} ({self.x}, {self.y})\"\n",
    "    def __repr__(self):\n",
    "        return self.__str__()\n",
    "\n",
    "def plot_points(points):\n",
    "    \"\"\"Visualiza los segmentos en un gráfico.\"\"\"\n",
    "   # Dibujar todos los puntos\n",
    "    x = [p.x for p in points]\n",
    "    y = [p.y for p in points]\n",
    "    plt.scatter(x, y, c='blue', label=\"Puntos\")\n",
    "    for p in points:\n",
    "            plt.text(p.x, p.y, p.label, fontsize=8, ha='right', va='bottom', color='black')\n",
    "        \n",
    "def generate_random_points(N, low_value, high_value, integer=True): \n",
    "    \"\"\"Genera N puntos aleatorios en un rango especificado.\"\"\"\n",
    "    coordinates = []\n",
    "    for i in range(N):\n",
    "        x = int(np.random.uniform(low_value, high_value)) if integer else np.random.uniform(low_value, high_value)\n",
    "        y = int(np.random.uniform(low_value, high_value)) if integer else np.random.uniform(low_value, high_value)\n",
    "        label = f\"P{i+1}\"\n",
    "        p = Points((x, y), label)\n",
    "        coordinates.append(p)\n",
    "    return coordinates"
   ]
  },
  {
   "cell_type": "code",
   "execution_count": 5,
   "metadata": {},
   "outputs": [
    {
     "data": {
      "image/png": "[encoded data removed]",
      "text/plain": [
       "<Figure size 640x480 with 1 Axes>"
      ]
     },
     "metadata": {},
     "output_type": "display_data"
    }
   ],
   "source": [
    "N = 10 \n",
    "np.random.seed(27)\n",
    "points = generate_random_points(N,0,20)\n",
    "plot_points(points)"
   ]
  },
  {
   "cell_type": "code",
   "execution_count": 6,
   "metadata": {},
   "outputs": [
    {
     "data": {
      "text/plain": [
       "centroid (10.4, 12.7)"
      ]
     },
     "execution_count": 6,
     "metadata": {},
     "output_type": "execute_result"
    }
   ],
   "source": [
    "\n",
    "mean_x = np.mean([po.x for po in points])\n",
    "mean_y = np.mean([po.y for po in points])\n",
    "\n",
    "centroid = Points([mean_x, mean_y],label='centroid')\n",
    "centroid"
   ]
  },
  {
   "cell_type": "code",
   "execution_count": 7,
   "metadata": {},
   "outputs": [],
   "source": [
    "class Node:\n",
    "    def __init__(self, punto, left=None, right=None):\n",
    "        self.data = punto\n",
    "        self.left = left\n",
    "        self.right = right\n",
    "    \n",
    "    def __str__(self):\n",
    "        return str(self.data)\n",
    "\n",
    "class Arbol:\n",
    "    def __init__(self, centroide):\n",
    "        self.raiz = None\n",
    "        self.centroide = centroide\n",
    "\n",
    "    def dist(self, node):\n",
    "        \"\"\"Calcula la distancia Manhattan entre el centroide y un nodo.\"\"\"\n",
    "        return abs(self.centroide.x - node.data.x) + abs(self.centroide.y - node.data.y)\n",
    "\n",
    "    def insert(self, node):\n",
    "        \"\"\"Inserta un nodo en el árbol binario.\"\"\"\n",
    "        if self.raiz is None:\n",
    "            self.raiz = node\n",
    "        else:\n",
    "            self._insert(self.raiz, node)\n",
    "\n",
    "    def _insert(self, actual, node):\n",
    "        \"\"\"Inserta el nodo en la posición correcta basado en la distancia.\"\"\"\n",
    "        if actual is None:\n",
    "            return node\n",
    "\n",
    "        if self.dist(node) < self.dist(actual):\n",
    "            actual.left = self._insert(actual.left, node)\n",
    "        else:\n",
    "            actual.right = self._insert(actual.right, node)\n",
    "\n",
    "        return actual\n",
    "\n",
    "    def inorder(self, actual=None):\n",
    "        \"\"\"Recorre el árbol en orden (inorder traversal).\"\"\"\n",
    "        # Si no se proporciona un nodo, empezar desde la raíz\n",
    "        if actual is None:\n",
    "            actual = self.raiz\n",
    "            # Si el árbol está vacío, retornar lista vacía\n",
    "            if actual is None:\n",
    "                return []\n",
    "\n",
    "        resultado = []\n",
    "        # Recorrer subárbol izquierdo\n",
    "        if actual.left is not None:\n",
    "            resultado.extend(self.inorder(actual.left))\n",
    "        \n",
    "        # Agregar nodo actual\n",
    "        resultado.append(actual.data)\n",
    "        \n",
    "        # Recorrer subárbol derecho\n",
    "        if actual.right is not None:\n",
    "            resultado.extend(self.inorder(actual.right))\n",
    "        \n",
    "        return resultado\n",
    "\n",
    "    def print_tree(self, node=None, level=0):\n",
    "        \"\"\"Imprime el árbol de forma visual.\"\"\"\n",
    "        if node is None:\n",
    "            node = self.raiz\n",
    "            if node is None:\n",
    "                return\n",
    "            \n",
    "        print(\"  \" * level + str(node.data))\n",
    "        if node.left:\n",
    "            self.print_tree(node.left, level + 1)\n",
    "        if node.right:\n",
    "            self.print_tree(node.right, level + 1)"
   ]
  },
  {
   "cell_type": "code",
   "execution_count": 8,
   "metadata": {},
   "outputs": [
    {
     "name": "stdout",
     "output_type": "stream",
     "text": [
      "[P1 (8, 16), P2 (14, 17), P3 (7, 19), P4 (17, 4)]\n"
     ]
    }
   ],
   "source": [
    "arbol = Arbol(centroid)\n",
    "\n",
    "# Envuelve cada punto en un objeto Node antes de insertarlo\n",
    "p1 = Node(points[0])\n",
    "p2 = Node(points[1])\n",
    "p3 = Node(points[2])\n",
    "p4 = Node(points[3])\n",
    "\n",
    "arbol.insert(p1)\n",
    "arbol.insert(p2)\n",
    "arbol.insert(p3)\n",
    "arbol.insert(p4)\n",
    "\n",
    "print(arbol.inorder())\n"
   ]
  },
  {
   "cell_type": "code",
   "execution_count": 59,
   "metadata": {},
   "outputs": [
    {
     "name": "stdout",
     "output_type": "stream",
     "text": [
      "P1 (8, 16)\n"
     ]
    }
   ],
   "source": [
    "print(arbol.raiz)"
   ]
  }
 ],
 "metadata": {
  "kernelspec": {
   "display_name": "Python 3",
   "language": "python",
   "name": "python3"
  },
  "language_info": {
   "codemirror_mode": {
    "name": "ipython",
    "version": 3
   },
   "file_extension": ".py",
   "mimetype": "text/x-python",
   "name": "python",
   "nbconvert_exporter": "python",
   "pygments_lexer": "ipython3",
   "version": "3.11.9"
  }
 },
 "nbformat": 4,
 "nbformat_minor": 2
}
