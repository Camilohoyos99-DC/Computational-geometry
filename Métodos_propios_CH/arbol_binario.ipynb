{
 "cells": [
  {
   "cell_type": "code",
   "execution_count": 1,
   "metadata": {},
   "outputs": [],
   "source": [
    "import numpy as np"
   ]
  },
  {
   "cell_type": "code",
   "execution_count": null,
   "metadata": {},
   "outputs": [],
   "source": []
  },
  {
   "cell_type": "code",
   "execution_count": null,
   "metadata": {},
   "outputs": [],
   "source": [
    "class Segment:\n",
    "    def __init__(self, p1, p2):\n",
    "        \"\"\" Crea un segmento ordenando los puntos según la relación de orden. \"\"\"\n",
    "        if p1 < p2:  # Usamos la relación de orden en Points\n",
    "            self.p1 = p1  # Extremo superior\n",
    "            self.p2 = p2  # Extremo inferior\n",
    "        else:\n",
    "            self.p1 = p2\n",
    "            self.p2 = p1\n",
    "\n",
    "    def __str__(self):\n",
    "        return f\"Segment({self.p1}, {self.p2})\"\n",
    "\n",
    "    def __lt__(self, other):\n",
    "        \"\"\" Compara segmentos en la línea de barrido. \"\"\"\n",
    "        return self.p1 < other.p1  # Se usa la relación de orden entre puntos\n",
    "\n",
    "    def intersecta_con(self, other):\n",
    "        \"\"\" Determina si dos segmentos se cruzan. \"\"\"\n",
    "        def ccw(A, B, C):\n",
    "            \"\"\" Función auxiliar para determinar si tres puntos están en orden antihorario. \"\"\"\n",
    "            return (C.y - A.y) * (B.x - A.x) > (B.y - A.y) * (C.x - A.x)\n",
    "\n",
    "        # Se determina si los segmentos se cruzan verificando la orientación de los puntos\n",
    "        return (ccw(self.p1, other.p1, other.p2) != ccw(self.p2, other.p1, other.p2) and\n",
    "                ccw(self.p1, self.p2, other.p1) != ccw(self.p1, self.p2, other.p2))\n"
   ]
  },
  {
   "cell_type": "code",
   "execution_count": null,
   "metadata": {},
   "outputs": [],
   "source": [
    "class Node:\n",
    "    def __init__(self, data, left=None, right=None):\n",
    "        self.data = data\n",
    "        self.left = left\n",
    "        self.right = right"
   ]
  },
  {
   "cell_type": "code",
   "execution_count": null,
   "metadata": {},
   "outputs": [],
   "source": [
    "class Node:\n",
    "    def __init__(self, data, left=None, right=None):\n",
    "        self.data = data\n",
    "        self.left = left\n",
    "        self.right = right\n",
    "\n",
    "def insert(root, node):\n",
    "    if root is None:\n",
    "        return node  # Se retorna el nuevo nodo\n",
    "\n",
    "    if node.data < root.data:\n",
    "        root.left = insert(root.left, node)  # Se asigna la recursión correctamente\n",
    "    elif node.data > root.data:\n",
    "        root.right = insert(root.right, node)\n",
    "\n",
    "    return root\n",
    "\n",
    "\n",
    "\n",
    "def preorder(root):\n",
    "    if root is None:\n",
    "        return\n",
    "    else:\n",
    "        print(root.data)\n",
    "        preorder(root.left)\n",
    "        preorder(root.right)\n",
    "\n",
    "\n",
    "def inorder(root):\n",
    "    if root is None:\n",
    "        return []\n",
    "    \n",
    "    return inorder(root.left) + [root.data] + inorder(root.right)\n",
    "\n",
    "\n",
    "\n",
    "def postorder(root):\n",
    "    if root is None:\n",
    "        return\n",
    "    else:\n",
    "        postorder(root.left)\n",
    "        postorder(root.right)\n",
    "        print(root.data)\n",
    "\n",
    "\n",
    "def search(root, data):\n",
    "    if root is None:\n",
    "        return False\n",
    "    else:\n",
    "        if root.data == data:\n",
    "            return True\n",
    "        elif data < root.data:\n",
    "            return search(root.left, data)\n",
    "        else:\n",
    "            return search(root.right, data)\n",
    "\n",
    "\n",
    "def delete(root, data):\n",
    "    if root is None:\n",
    "        return root\n",
    "    elif data < root.data:\n",
    "        root.left = delete(root.left, data)\n",
    "    elif data > root.data:\n",
    "        root.right = delete(root.right, data)\n",
    "    else:\n",
    "        if root.left is None:\n",
    "            temp = root.right\n",
    "        elif root.right is None:\n",
    "            temp = root.left\n",
    "        else:\n",
    "            temp = find_min(root.right)\n",
    "            root.data = temp.data\n",
    "            root.right = delete(root.right, temp.data)\n",
    "    return root\n",
    "def find_min(root):\n",
    "    if root.left is None:\n",
    "        return root\n",
    "    else:\n",
    "        return find_min(root.left)\n",
    "\n",
    "def find_max(root):\n",
    "    if root.right is None:\n",
    "        return root\n",
    "    else:\n",
    "        return find_max(root.right)\n",
    "    \n",
    "def depth(root):\n",
    "    if root is None:\n",
    "        return -1\n",
    "    else:\n",
    "        return 1 + max(depth(root.left), depth(root.right))\n",
    "    \n",
    "def BBT(sortedArr):\n",
    "    if not sortedArr:\n",
    "        return None\n",
    "    \n",
    "    mid = int(len(sortedArr)/2)\n",
    "    newRoot = Node(sortedArr[mid])\n",
    "    newRoot.left = BBT(sortedArr[:mid])\n",
    "    newRoot.right = BBT(sortedArr[mid+1:])\n",
    "    return newRoot"
   ]
  },
  {
   "cell_type": "code",
   "execution_count": 20,
   "metadata": {},
   "outputs": [
    {
     "name": "stdout",
     "output_type": "stream",
     "text": [
      "100\n",
      "110\n",
      "120\n"
     ]
    }
   ],
   "source": [
    "x = [100, 70, 6, 80, 50, 12, 18, 33, 80, 110, 120]\n",
    "root = Node(x[0])  # Crear el nodo raíz\n",
    "\n",
    "# Insertar los demás valores\n",
    "for value in x[1:]:\n",
    "    root = insert(root, Node(value))\n",
    "\n",
    "# Prueba para verificar la estructura del árbol\n",
    "print(root.data)  # Debería imprimir 20 (raíz)\n",
    "print(root.right.data)  # Debería imprimir 30\n",
    "print(root.right.right.data)  # Debería imprimir 40\n"
   ]
  },
  {
   "cell_type": "code",
   "execution_count": 21,
   "metadata": {},
   "outputs": [
    {
     "name": "stdout",
     "output_type": "stream",
     "text": [
      "100\n",
      "70\n",
      "6\n",
      "50\n",
      "12\n",
      "18\n",
      "33\n",
      "80\n",
      "110\n",
      "120\n"
     ]
    }
   ],
   "source": [
    "preorder(root)"
   ]
  },
  {
   "cell_type": "code",
   "execution_count": 33,
   "metadata": {},
   "outputs": [
    {
     "data": {
      "text/plain": [
       "[6, 12, 18, 33, 50, 70, 80, 100, 110, 120]"
      ]
     },
     "execution_count": 33,
     "metadata": {},
     "output_type": "execute_result"
    }
   ],
   "source": [
    "inorder(root)\n"
   ]
  },
  {
   "cell_type": "code",
   "execution_count": 23,
   "metadata": {},
   "outputs": [
    {
     "data": {
      "text/plain": [
       "6"
      ]
     },
     "execution_count": 23,
     "metadata": {},
     "output_type": "execute_result"
    }
   ],
   "source": [
    "(depth(root))\n"
   ]
  },
  {
   "cell_type": "code",
   "execution_count": 24,
   "metadata": {},
   "outputs": [
    {
     "data": {
      "text/plain": [
       "1"
      ]
     },
     "execution_count": 24,
     "metadata": {},
     "output_type": "execute_result"
    }
   ],
   "source": [
    "depth(root.right)"
   ]
  },
  {
   "cell_type": "code",
   "execution_count": 25,
   "metadata": {},
   "outputs": [
    {
     "data": {
      "text/plain": [
       "5"
      ]
     },
     "execution_count": 25,
     "metadata": {},
     "output_type": "execute_result"
    }
   ],
   "source": [
    "depth(root.left)"
   ]
  },
  {
   "cell_type": "code",
   "execution_count": 26,
   "metadata": {},
   "outputs": [
    {
     "data": {
      "text/plain": [
       "100"
      ]
     },
     "execution_count": 26,
     "metadata": {},
     "output_type": "execute_result"
    }
   ],
   "source": [
    "root.data"
   ]
  },
  {
   "cell_type": "code",
   "execution_count": 27,
   "metadata": {},
   "outputs": [],
   "source": [
    "def BBT(sortedArr):\n",
    "    if not sortedArr:\n",
    "        return None\n",
    "    \n",
    "    mid = int(len(sortedArr)/2)\n",
    "    newRoot = Node(sortedArr[mid])\n",
    "    newRoot.left = BBT(sortedArr[:mid])\n",
    "    newRoot.right = BBT(sortedArr[mid+1:])\n",
    "    return newRoot\n"
   ]
  },
  {
   "cell_type": "code",
   "execution_count": 28,
   "metadata": {},
   "outputs": [],
   "source": [
    "root2 =BBT(inorder(root))"
   ]
  },
  {
   "cell_type": "code",
   "execution_count": 34,
   "metadata": {},
   "outputs": [
    {
     "data": {
      "text/plain": [
       "3"
      ]
     },
     "execution_count": 34,
     "metadata": {},
     "output_type": "execute_result"
    }
   ],
   "source": [
    "depth(root2)"
   ]
  },
  {
   "cell_type": "code",
   "execution_count": 31,
   "metadata": {},
   "outputs": [
    {
     "data": {
      "text/plain": [
       "2"
      ]
     },
     "execution_count": 31,
     "metadata": {},
     "output_type": "execute_result"
    }
   ],
   "source": [
    "depth(root2.left)\n"
   ]
  },
  {
   "cell_type": "code",
   "execution_count": 32,
   "metadata": {},
   "outputs": [
    {
     "data": {
      "text/plain": [
       "2"
      ]
     },
     "execution_count": 32,
     "metadata": {},
     "output_type": "execute_result"
    }
   ],
   "source": [
    "depth(root2.right)"
   ]
  },
  {
   "cell_type": "code",
   "execution_count": null,
   "metadata": {},
   "outputs": [],
   "source": []
  }
 ],
 "metadata": {
  "kernelspec": {
   "display_name": "Python 3",
   "language": "python",
   "name": "python3"
  },
  "language_info": {
   "codemirror_mode": {
    "name": "ipython",
    "version": 3
   },
   "file_extension": ".py",
   "mimetype": "text/x-python",
   "name": "python",
   "nbconvert_exporter": "python",
   "pygments_lexer": "ipython3",
   "version": "3.11.9"
  }
 },
 "nbformat": 4,
 "nbformat_minor": 2
}
