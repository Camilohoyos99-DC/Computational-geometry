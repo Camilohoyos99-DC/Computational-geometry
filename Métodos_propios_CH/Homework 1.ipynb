{
 "cells": [
  {
   "cell_type": "code",
   "execution_count": 1,
   "metadata": {},
   "outputs": [],
   "source": [
    "import numpy as np\n",
    "import pandas as pd\n",
    "import matplotlib.pyplot as plt"
   ]
  },
  {
   "cell_type": "code",
   "execution_count": 2,
   "metadata": {},
   "outputs": [],
   "source": [
    "class Points:\n",
    "    def __init__(self, coordinates, label=None):\n",
    "        self.x = coordinates[0]\n",
    "        self.y = coordinates[1]\n",
    "        self.label = label\n",
    "    \n",
    "    def __lt__(self, other):\n",
    "        \"\"\"Define la relación de orden entre dos puntos.\"\"\"\n",
    "        return (self.y > other.y) or (self.y == other.y and self.x < other.x)\n",
    "\n",
    "    def __str__(self):\n",
    "        return f\"{self.label} ({self.x}, {self.y})\"\n",
    "    def __repr__(self):\n",
    "        return self.__str__()\n",
    "    \n",
    "class Segment:\n",
    "    segment_count = 0 \n",
    "    def __init__(self, upper, lower):\n",
    "        \"\"\" Crea un segmento ordenando los puntos según la relación de orden. \"\"\"\n",
    "        if upper < lower:  # Usamos la relación de orden en Points\n",
    "            self.upper = upper  # Extremo superior\n",
    "            self.lower = lower  # Extremo inferior\n",
    "        else:\n",
    "            self.upper = lower\n",
    "            self.lower = upper\n",
    "\n",
    "        Segment.segment_count += 1\n",
    "        self.label = f\"S{Segment.segment_count}\"  # Nombre único del segmento\n",
    "\n",
    "\n",
    "    def __str__(self):\n",
    "        \"\"\" Representación legible del segmento. \"\"\"\n",
    "        return f\"{self.label} (Upper: {self.upper.label}, Lower: {self.lower.label})\"\n",
    "\n",
    "    def __lt__(self, other):\n",
    "        \"\"\" Compara segmentos en la línea de barrido. \"\"\"\n",
    "        return self.upper < other.upper  # Se usa la relación de orden entre puntos\n",
    "    \n",
    "    def __repr__(self):\n",
    "        return self.__str__()\n",
    "\n",
    "    def intersecta_con(self, other):\n",
    "        \"\"\" Determina si dos segmentos se cruzan. \"\"\"\n",
    "        def ccw(A, B, C):\n",
    "            \"\"\" Función auxiliar para determinar si tres puntos están en orden antihorario. \"\"\"\n",
    "            return (C.y - A.y) * (B.x - A.x) > (B.y - A.y) * (C.x - A.x)\n",
    "\n",
    "        # Se determina si los segmentos se cruzan verificando la orientación de los puntos\n",
    "        return (ccw(self.upper, other.upper, other.lower) != ccw(self.lower, other.upper, other.lower) and\n",
    "                ccw(self.upper, self.lower, other.upper) != ccw(self.upper, self.lower, other.lower))\n",
    "    \n",
    "    def reset_count(self):\n",
    "        Segment.segment_count = 0"
   ]
  },
  {
   "cell_type": "code",
   "execution_count": null,
   "metadata": {},
   "outputs": [
    {
     "data": {
      "text/plain": [
       "x0    0.221\n",
       "y0    0.686\n",
       "Name: 1, dtype: float64"
      ]
     },
     "execution_count": 15,
     "metadata": {},
     "output_type": "execute_result"
    }
   ],
   "source": [
    "segments_csv = pd.read_csv(\"../Tareas/segmentos.csv\")\n",
    "\n"
   ]
  },
  {
   "cell_type": "code",
   "execution_count": null,
   "metadata": {},
   "outputs": [],
   "source": []
  }
 ],
 "metadata": {
  "kernelspec": {
   "display_name": "Python 3",
   "language": "python",
   "name": "python3"
  },
  "language_info": {
   "codemirror_mode": {
    "name": "ipython",
    "version": 3
   },
   "file_extension": ".py",
   "mimetype": "text/x-python",
   "name": "python",
   "nbconvert_exporter": "python",
   "pygments_lexer": "ipython3",
   "version": "3.11.9"
  }
 },
 "nbformat": 4,
 "nbformat_minor": 2
}
