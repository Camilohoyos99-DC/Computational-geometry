{
  "nbformat": 4,
  "nbformat_minor": 0,
  "metadata": {
    "colab": {
      "provenance": [],
      "authorship_tag": "ABX9TyN28wFHzJpWRHgmGVe0+mTC",
      "include_colab_link": true
    },
    "kernelspec": {
      "name": "python3",
      "display_name": "Python 3"
    },
    "language_info": {
      "name": "python"
    }
  },
  "cells": [
    {
      "cell_type": "markdown",
      "metadata": {
        "id": "view-in-github",
        "colab_type": "text"
      },
      "source": [
        "<a href=\"https://colab.research.google.com/github/Camilohoyos99/Computational-geometry/blob/main/clase1_geo_2024.ipynb\" target=\"_parent\"><img src=\"https://colab.research.google.com/assets/colab-badge.svg\" alt=\"Open In Colab\"/></a>"
      ]
    },
    {
      "cell_type": "code",
      "execution_count": 1,
      "metadata": {
        "id": "dgmXhVML1jq7"
      },
      "outputs": [],
      "source": [
        "import numpy as np\n",
        "import matplotlib.pyplot as plt"
      ]
    },
    {
      "cell_type": "code",
      "source": [
        "class Point:\n",
        "  def __init__(self, x, y) -> None:\n",
        "    self.x = x\n",
        "    self.y = y\n",
        "\n",
        "  def __repr__(self) -> str:\n",
        "    return f'({self.x}, self.y)'\n",
        "\n",
        "\n"
      ],
      "metadata": {
        "id": "_WMOxsXT2Mpx"
      },
      "execution_count": 6,
      "outputs": []
    },
    {
      "cell_type": "code",
      "source": [
        "def cross_point(p0, p1, p2): # p0 es mi punto de origen, p1 es el punto que quiero categorizar respeecto a p2\n",
        "  prod1 = (p1.x - p0.x) * (p2.y - p0.y)\n",
        "  prod2 = (p1.y - p0.y) * (p2.x - p0.x)\n",
        "  res = prod1 - prod2\n",
        "  if res > 0:\n",
        "    print(\"p1 esta en sentido antihorario con respecto a p2\")\n",
        "  elif res < 0:\n",
        "    print(\"p1 esta en sentido horario cons respecto a p2\")\n",
        "  else :\n",
        "    print(\"los vectores son paraleslos\")\n",
        ""
      ],
      "metadata": {
        "id": "MZINV4fJ3SqV"
      },
      "execution_count": 7,
      "outputs": []
    },
    {
      "cell_type": "code",
      "source": [
        "p0 = Point(2,4)\n",
        "p1 = Point(4,6)\n",
        "p2 = Point(4,8)\n",
        "\n",
        "cross_point(p0,p1,p2)"
      ],
      "metadata": {
        "colab": {
          "base_uri": "https://localhost:8080/"
        },
        "id": "pkP45fDE4vtH",
        "outputId": "5ea7e5df-1b91-4f5c-dd26-d827b33c6cb2"
      },
      "execution_count": 8,
      "outputs": [
        {
          "output_type": "stream",
          "name": "stdout",
          "text": [
            "p1 esta en sentido antihorario con respecto a p2\n"
          ]
        }
      ]
    }
  ]
}