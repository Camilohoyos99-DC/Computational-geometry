{
 "cells": [
  {
   "cell_type": "code",
   "execution_count": 1,
   "id": "c5d8ae17",
   "metadata": {},
   "outputs": [],
   "source": [
    "import numpy as np\n",
    "import matplotlib.pyplot as plt\n"
   ]
  },
  {
   "cell_type": "markdown",
   "id": "75d640ec",
   "metadata": {},
   "source": [
    "### Dado 3 puntos en el plano y tomando el primer punto como el origen P0 determinar si el punto P2 esta girado a la derecha o izquierda respecto a P1\n"
   ]
  },
  {
   "cell_type": "code",
   "execution_count": 6,
   "id": "c3a74e41",
   "metadata": {},
   "outputs": [],
   "source": [
    "def cross_product(p0,p1,p2):\n",
    "    x1 = p1[0] - p0[0]\n",
    "    y1 = p1[1] - p0[1]\n",
    "    x2 = p2[0] - p0[0]\n",
    "    y2 = p2[1] - p0[1]\n",
    "    \n",
    "    return (x1*y2) - (x2*y1)"
   ]
  },
  {
   "cell_type": "code",
   "execution_count": 7,
   "id": "1253cc95",
   "metadata": {},
   "outputs": [
    {
     "data": {
      "text/plain": [
       "2"
      ]
     },
     "execution_count": 7,
     "metadata": {},
     "output_type": "execute_result"
    }
   ],
   "source": [
    "p0 = (3,5)\n",
    "p1 = (1,1)\n",
    "p2 = (2,2)\n",
    "cross_product(p0,p1,p2)"
   ]
  },
  {
   "cell_type": "code",
   "execution_count": 15,
   "id": "3493a96f",
   "metadata": {},
   "outputs": [],
   "source": [
    "def orientation(p0,p1,p2):\n",
    "    giro = cross_product(p0,p1,p2)\n",
    "    \n",
    "    if giro > 0 :\n",
    "        print (\"p2 se encuentra a la derecha respecto a p0p1 \")\n",
    "    elif giro < 0:\n",
    "        print (\"p2 se encuentra a la izquierda respecto a p0p1\")\n",
    "    else:\n",
    "        print(\" los segmentos de linea son colineales entre si \")\n",
    "        \n",
    "    plt.plot([p0[0],p1[0]],[p0[1],p1[1]], \"b\", label= \"P0P1\")\n",
    "    plt.plot([p1[0],p2[0]],[p1[1],p2[1]], \"r\", label= \"P1P2\")\n",
    "    plt.scatter([p0[0],p1[0],p2[0]],[p0[1],p1[1],p2[1]])    \n",
    "    plt.legend()\n",
    "    plt.show()"
   ]
  },
  {
   "cell_type": "code",
   "execution_count": 16,
   "id": "921cf1ca",
   "metadata": {},
   "outputs": [
    {
     "name": "stdout",
     "output_type": "stream",
     "text": [
      "p2 se encuentra a la derecha respecto a p0p1 \n"
     ]
    },
    {
     "data": {
      "image/png": "[encoded data removed]",
      "text/plain": [
       "<Figure size 432x288 with 1 Axes>"
      ]
     },
     "metadata": {
      "needs_background": "light"
     },
     "output_type": "display_data"
    }
   ],
   "source": [
    "orientation(p0,p1,p2)"
   ]
  },
  {
   "cell_type": "markdown",
   "id": "7e9e7046",
   "metadata": {},
   "source": [
    " ### given two line segments you need to determinate if that segments intersect or not?\n"
   ]
  },
  {
   "cell_type": "code",
   "execution_count": 28,
   "id": "421976b3",
   "metadata": {},
   "outputs": [],
   "source": [
    "def on_segment(p0,p1,p2):\n",
    "    xi,yi = p0\n",
    "    xj,yj = p1\n",
    "    xk,yk = p2\n",
    "    if ((min(xi,xj) <= xk) and (max(xi,xj)>=xk)) and ((min(yi,yj) <= yk) and (max(yi,yj)>=yk)):\n",
    "        return True\n",
    "    else:\n",
    "        return False\n",
    "    \n",
    "def pintar_segmentos(p1,p2,p3,p4):\n",
    "    plt.plot([p1[0],p2[0]],[p1[1],p2[1]], \"b\",label = 'P1P2')\n",
    "    plt.plot([p3[0], p4[0]], [p3[1], p4[1]], 'g', label='P3P4')\n",
    "    plt.scatter([p1[0], p2[0], p3[0],p4[0]], [p1[1], p2[1], p3[1],p4[1]])\n",
    "    plt.annotate('P1', (p1[0], p1[1]), textcoords=\"offset points\", xytext=(-15,-10), ha='center', fontsize=12)\n",
    "    plt.annotate('P2', (p2[0], p2[1]), textcoords=\"offset points\", xytext=(-15,-10), ha='center', fontsize=12)\n",
    "    plt.annotate('P3', (p3[0], p3[1]), textcoords=\"offset points\", xytext=(-15,-10), ha='center', fontsize=12)\n",
    "    plt.annotate('P4', (p4[0], p4[1]), textcoords=\"offset points\", xytext=(-15,-10), ha='center', fontsize=12)\n",
    "    \n",
    "    plt.legend()\n",
    "    plt.plot()\n",
    "    \n",
    "def intersection(p1,p2,p3,p4):\n",
    "    \n",
    "    d1 = cross_product(p1,p3,p4)\n",
    "    d2 = cross_product(p2,p3,p4)\n",
    "    \n",
    "    d3 = cross_product(p3,p1,p2)\n",
    "    d4 = cross_product(p4,p1,p2)\n",
    "    \n",
    "    pintar_segmentos(p1,p2,p3,p4)\n",
    "    \n",
    "    if d1*d2 < 0 and d3*d4 <0:\n",
    "        return print(\"los segmentos se cruzan\")\n",
    "    \n",
    "    elif d1 == 0 and on_segment(p3,p4,p1):\n",
    "        return print(\"los segmentos se cruzan pero no se atraviezan\")\n",
    "    elif d2 == 0 and on_segment(p3,p4,p2):\n",
    "        return print(\"los segmentos se cruzan pero no se atraviezan\")\n",
    "    elif d3 == 0 and on_segment(p1,p2,p3):\n",
    "        return print(\"los segmentos se cruzan pero no se atraviezan\")\n",
    "    elif d4 == 0 and on_segment(p1,p2,p4):\n",
    "        return print(\"los segmentos se cruzan pero no se atraviezan\")\n",
    "    \n",
    "\n",
    "    "
   ]
  },
  {
   "cell_type": "code",
   "execution_count": 29,
   "id": "776a2fe5",
   "metadata": {},
   "outputs": [
    {
     "name": "stdout",
     "output_type": "stream",
     "text": [
      "-0.5 0.5 0.0 -1\n",
      "los segmentos se cruzan pero no se atraviezan\n"
     ]
    },
    {
     "data": {
      "image/png": "[encoded data removed]",
      "text/plain": [
       "<Figure size 432x288 with 1 Axes>"
      ]
     },
     "metadata": {
      "needs_background": "light"
     },
     "output_type": "display_data"
    }
   ],
   "source": [
    "p1 = np.array([0, 0])\n",
    "p2 = np.array([1, 1])\n",
    "p3 = np.array([0.5, 0.5])\n",
    "p4 = np.array([1, 0])\n",
    "\n",
    "intersection(p1,p2,p3,p4)"
   ]
  },
  {
   "cell_type": "markdown",
   "id": "b4efab11",
   "metadata": {},
   "source": [
    "### Edit the last code and plot the intersect point "
   ]
  },
  {
   "cell_type": "code",
   "execution_count": null,
   "id": "5379488c",
   "metadata": {},
   "outputs": [],
   "source": []
  },
  {
   "cell_type": "code",
   "execution_count": null,
   "id": "6f8517dc",
   "metadata": {},
   "outputs": [],
   "source": []
  }
 ],
 "metadata": {
  "kernelspec": {
   "display_name": "Python 3",
   "language": "python",
   "name": "python3"
  },
  "language_info": {
   "codemirror_mode": {
    "name": "ipython",
    "version": 3
   },
   "file_extension": ".py",
   "mimetype": "text/x-python",
   "name": "python",
   "nbconvert_exporter": "python",
   "pygments_lexer": "ipython3",
   "version": "3.9.11"
  }
 },
 "nbformat": 4,
 "nbformat_minor": 5
}
