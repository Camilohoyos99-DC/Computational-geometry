{
 "cells": [
  {
   "cell_type": "code",
   "execution_count": 1,
   "id": "c5d8ae17",
   "metadata": {},
   "outputs": [],
   "source": [
    "import numpy as np\n",
    "import matplotlib.pyplot as plt\n"
   ]
  },
  {
   "cell_type": "markdown",
   "id": "75d640ec",
   "metadata": {},
   "source": [
    "### Dado 3 puntos en el plano y tomando el primer punto como el origen P0 determinar si el punto P2 esta girado a la derecha o izquierda respecto a P1\n"
   ]
  },
  {
   "cell_type": "code",
   "execution_count": 2,
   "id": "c3a74e41",
   "metadata": {},
   "outputs": [],
   "source": [
    "def cross_product(p0,p1,p2):\n",
    "    x1 = p1[0] - p0[0]\n",
    "    y1 = p1[1] - p0[1]\n",
    "    x2 = p2[0] - p0[0]\n",
    "    y2 = p2[1] - p0[1]\n",
    "    \n",
    "    return (x1*y2) - (x2*y1)"
   ]
  },
  {
   "cell_type": "code",
   "execution_count": 3,
   "id": "1253cc95",
   "metadata": {},
   "outputs": [
    {
     "data": {
      "text/plain": [
       "2"
      ]
     },
     "execution_count": 3,
     "metadata": {},
     "output_type": "execute_result"
    }
   ],
   "source": [
    "p0 = (3,5)\n",
    "p1 = (1,1)\n",
    "p2 = (2,2)\n",
    "cross_product(p0,p1,p2)"
   ]
  },
  {
   "cell_type": "code",
   "execution_count": 4,
   "id": "3493a96f",
   "metadata": {},
   "outputs": [],
   "source": [
    "def orientation(p0,p1,p2):\n",
    "    giro = cross_product(p0,p1,p2)\n",
    "    \n",
    "    if giro > 0 :\n",
    "        print (\"p2 se encuentra a la derecha respecto a p0p1 \")\n",
    "    elif giro < 0:\n",
    "        print (\"p2 se encuentra a la izquierda respecto a p0p1\")\n",
    "    else:\n",
    "        print(\" los segmentos de linea son colineales entre si \")\n",
    "        \n",
    "    plt.plot([p0[0],p1[0]],[p0[1],p1[1]], \"b\", label= \"P0P1\")\n",
    "    plt.plot([p1[0],p2[0]],[p1[1],p2[1]], \"r\", label= \"P1P2\")\n",
    "    plt.scatter([p0[0],p1[0],p2[0]],[p0[1],p1[1],p2[1]])    \n",
    "    plt.legend()\n",
    "    plt.show()"
   ]
  },
  {
   "cell_type": "code",
   "execution_count": 5,
   "id": "921cf1ca",
   "metadata": {},
   "outputs": [
    {
     "name": "stdout",
     "output_type": "stream",
     "text": [
      "p2 se encuentra a la derecha respecto a p0p1 \n"
     ]
    },
    {
     "data": {
      "image/png": "[encoded data removed]",
      "text/plain": [
       "<Figure size 432x288 with 1 Axes>"
      ]
     },
     "metadata": {
      "needs_background": "light"
     },
     "output_type": "display_data"
    }
   ],
   "source": [
    "orientation(p0,p1,p2)"
   ]
  },
  {
   "cell_type": "markdown",
   "id": "7e9e7046",
   "metadata": {},
   "source": [
    " ### given two line segments you need to determinate if that segments intersect or not?\n"
   ]
  },
  {
   "cell_type": "code",
   "execution_count": 6,
   "id": "421976b3",
   "metadata": {},
   "outputs": [],
   "source": [
    "def on_segment(p0,p1,p2):\n",
    "    xi,yi = p0\n",
    "    xj,yj = p1\n",
    "    xk,yk = p2\n",
    "    if ((min(xi,xj) <= xk) and (max(xi,xj)>=xk)) and ((min(yi,yj) <= yk) and (max(yi,yj)>=yk)):\n",
    "        return True\n",
    "    else:\n",
    "        return False\n",
    "    \n",
    "def pintar_segmentos(p1,p2,p3,p4,pin = None):\n",
    "    plt.plot([p1[0],p2[0]],[p1[1],p2[1]], \"b\",label = 'P1P2')\n",
    "    plt.plot([p3[0], p4[0]], [p3[1], p4[1]], 'g', label='P3P4')\n",
    "    plt.scatter([p1[0], p2[0], p3[0],p4[0]], [p1[1], p2[1], p3[1],p4[1]])\n",
    "    plt.annotate('P1', (p1[0], p1[1]), textcoords=\"offset points\", xytext=(-15,-10), ha='center', fontsize=12)\n",
    "    plt.annotate('P2', (p2[0], p2[1]), textcoords=\"offset points\", xytext=(-15,-10), ha='center', fontsize=12)\n",
    "    plt.annotate('P3', (p3[0], p3[1]), textcoords=\"offset points\", xytext=(-15,-10), ha='center', fontsize=12)\n",
    "    plt.annotate('P4', (p4[0], p4[1]), textcoords=\"offset points\", xytext=(-15,-10), ha='center', fontsize=12)\n",
    "    if pin is not None:\n",
    "        plt.scatter([pin[0]],[pin[1]])\n",
    "        plt.annotate('intersec', (pin[0], pin[1]), textcoords=\"offset points\", xytext=(-15,-10), ha='center', fontsize=12)\n",
    "    \n",
    "    plt.legend()\n",
    "    plt.plot()\n",
    "    \n",
    "def intersection(p1,p2,p3,p4):\n",
    "    \n",
    "    d1 = cross_product(p1,p3,p4)\n",
    "    d2 = cross_product(p2,p3,p4)\n",
    "    \n",
    "    d3 = cross_product(p3,p1,p2)\n",
    "    d4 = cross_product(p4,p1,p2)\n",
    "    \n",
    "    pintar_segmentos(p1,p2,p3,p4)\n",
    "    \n",
    "    if d1*d2 < 0 and d3*d4 <0:\n",
    "        return True,print(\"los segmentos se cruzan\")\n",
    "    \n",
    "    elif d1 == 0 and on_segment(p3,p4,p1):\n",
    "        return True,print(\"los segmentos se cruzan pero no se atraviezan\")\n",
    "    elif d2 == 0 and on_segment(p3,p4,p2):\n",
    "        return True,print(\"los segmentos se cruzan pero no se atraviezan\")\n",
    "    elif d3 == 0 and on_segment(p1,p2,p3):\n",
    "        return True,print(\"los segmentos se cruzan pero no se atraviezan\")\n",
    "    elif d4 == 0 and on_segment(p1,p2,p4):\n",
    "        return True, print(\"los segmentos se cruzan pero no se atraviezan\")\n",
    "    else : \n",
    "        return False, print(\"los segmentos no se intersectan\")\n",
    "     \n",
    "\n",
    "    "
   ]
  },
  {
   "cell_type": "code",
   "execution_count": 7,
   "id": "776a2fe5",
   "metadata": {},
   "outputs": [
    {
     "name": "stdout",
     "output_type": "stream",
     "text": [
      "los segmentos se cruzan pero no se atraviezan\n"
     ]
    },
    {
     "data": {
      "text/plain": [
       "(True, None)"
      ]
     },
     "execution_count": 7,
     "metadata": {},
     "output_type": "execute_result"
    },
    {
     "data": {
      "image/png": "[encoded data removed]",
      "text/plain": [
       "<Figure size 432x288 with 1 Axes>"
      ]
     },
     "metadata": {
      "needs_background": "light"
     },
     "output_type": "display_data"
    }
   ],
   "source": [
    "p1 = np.array([0, 0])\n",
    "p2 = np.array([1, 1])\n",
    "p3 = np.array([0.5, 0.5])\n",
    "p4 = np.array([1, 0])\n",
    "\n",
    "intersection(p1,p2,p3,p4)"
   ]
  },
  {
   "cell_type": "markdown",
   "id": "b4efab11",
   "metadata": {},
   "source": [
    "### Edit the last code and plot the intersect point "
   ]
  },
  {
   "cell_type": "code",
   "execution_count": 8,
   "id": "5379488c",
   "metadata": {},
   "outputs": [],
   "source": [
    "def determinant(p1,p2,p3,p4):\n",
    "    x1, y1 = p1\n",
    "    x2, y2 = p2\n",
    "    x3, y3 = p3\n",
    "    x4, y4 = p4\n",
    "    return(x1+x2)*(y4-y3) - (y1+y2)*(x4-x3)\n",
    "\n",
    "def intersection_point(p1,p2,p3,p4):\n",
    "    x1, y1 = p1\n",
    "    x2, y2 = p2\n",
    "    x3, y3 = p3\n",
    "    x4, y4 = p4\n",
    "    interse = intersection(p1,p2,p3,p4)\n",
    "    \n",
    "    if interse:\n",
    "            \n",
    "            det = determinant(p1,p2,p3,p4)\n",
    "            alpha = ((y4-y3)*(x2-x4)-(x4-x3)*(y2-y1))/det\n",
    "            beta = ((-y1-y2)*(x2-x4)+(x1+x2)*(y2-y1))/det\n",
    "            \n",
    "            x = alpha * x1 +(1-alpha)*x2\n",
    "            y = alpha *y1 +(1-alpha)*y2\n",
    "            \n",
    "            pin=np.array([x,y])\n",
    "            pintar_segmentos(p1,p2,p3,p4,pin)"
   ]
  },
  {
   "cell_type": "code",
   "execution_count": 9,
   "id": "6f8517dc",
   "metadata": {},
   "outputs": [
    {
     "name": "stdout",
     "output_type": "stream",
     "text": [
      "los segmentos se cruzan\n"
     ]
    },
    {
     "data": {
      "image/png": "[encoded data removed]",
      "text/plain": [
       "<Figure size 432x288 with 1 Axes>"
      ]
     },
     "metadata": {
      "needs_background": "light"
     },
     "output_type": "display_data"
    }
   ],
   "source": [
    "p1 = np.array([0, 0])\n",
    "p2 = np.array([1, 1])\n",
    "p3 = np.array([0, 1])\n",
    "p4 = np.array([1, 0])\n",
    "\n",
    "\n",
    "intersection_point(p1,p2,p3,p4)"
   ]
  },
  {
   "cell_type": "markdown",
   "id": "3170b281",
   "metadata": {},
   "source": [
    "## lets calculate the convex hull of a set of points and graph the results\n",
    "\n"
   ]
  },
  {
   "cell_type": "code",
   "execution_count": 10,
   "id": "b6bd0269",
   "metadata": {},
   "outputs": [],
   "source": [
    "from matplotlib import pyplot as plt\n",
    "from random import randint\n",
    "from math import atan2\n",
    "\n",
    "def create_points(ct,min=0,max=50):\n",
    "    return [[randint(min,max),randint(min,max)]for _ in range(ct)]\n",
    " \n",
    "def scatter_plot(coords,convex_hull=None):\n",
    "    xs,ys = zip(*coords)\n",
    "    plt.scatter(xs,ys)\n",
    "    if convex_hull != None:\n",
    "        for i in range(1,len(convex_hull)+1):\n",
    "            if i == len(convex_hull):i=0\n",
    "            c0 = convex_hull[i-1]\n",
    "            c1 = convex_hull[i]\n",
    "            plt.plot((c0[0],c1[0]),(c0[1],c1[1]),'r')\n",
    "    plt.show()\n",
    "def polar_angle(p0,p1=None):\n",
    "    if p1 ==None: p1=anchor\n",
    "    y_span=p0[1]-p1[1]\n",
    "    x_span=p0[0]-p1[0]\n",
    "    \n",
    "    return atan2(y_span,x_span) \n",
    "\n",
    "def distance(p0,p1=None):\n",
    "    if p1 ==None: p1=anchor\n",
    "    y_span=p0[1]-p1[1]\n",
    "    x_span=p0[0]-p1[0]\n",
    "    return y_span**2 + x_span**2\n",
    "\n",
    "def quicksort(a):\n",
    "    if len(a)<=1: return a\n",
    "    smaller,equal,larger=[],[],[]\n",
    "    piv_ang=polar_angle(a[randint(0,len(a)-1)]) #tomando u punto cualquiera y calcular su polar_angle\n",
    "    \n",
    "    for pt in a:\n",
    "        pt_ang = polar_angle(pt)\n",
    "        if pt_ang<piv_ang:smaller.append(pt)\n",
    "        elif pt_ang==piv_ang:equal.append(pt)\n",
    "        else:               larger.append(pt)\n",
    "    return quicksort(smaller) + sorted(equal,key=distance)\\\n",
    "            +quicksort(larger)\n",
    "\n",
    "def cross_product(p0,p1,p2):\n",
    "    x1 = p1[0] - p0[0]\n",
    "    y1 = p1[1] - p0[1]\n",
    "    x2 = p2[0] - p0[0]\n",
    "    y2 = p2[1] - p0[1]\n",
    "    return (x1*y2) - (x2*y1)\n",
    "\n",
    "\n",
    "def graham_scan(points,show_progress=False):\n",
    "    global anchor\n",
    "    min_idx=None\n",
    "    for i,(x,y) in enumerate(points):\n",
    "        if min_idx==None or y<points[min_idx][1]:\n",
    "            min_idx=i\n",
    "        if y==points[min_idx][i]and x<points[min_idx][0]:\n",
    "            min_idx=i\n",
    "        anchor=points[min_idx]\n",
    "        sorted_pts=quicksort(points)\n",
    "        del sorted_pts[sorted_pts.index(anchor)]\n",
    "        hull=[anchor,sorted_pts[0]]\n",
    "        for s in sorted_pts[1:]:\n",
    "            while cross_product(hull[-2],hull[-1],s)<= 0:\n",
    "                del hull[-1]\n",
    "                if len(hull)<2:break\n",
    "            hull.append(s)\n",
    "            \n",
    "            if show_progress: scatter_plot(points,hull)\n",
    "        return hull"
   ]
  },
  {
   "cell_type": "code",
   "execution_count": 11,
   "id": "08800101",
   "metadata": {},
   "outputs": [
    {
     "data": {
      "image/png": "[encoded data removed]",
      "text/plain": [
       "<Figure size 432x288 with 1 Axes>"
      ]
     },
     "metadata": {
      "needs_background": "light"
     },
     "output_type": "display_data"
    }
   ],
   "source": [
    "points = create_points(20)\n",
    "hull=graham_scan(points,False)\n",
    "scatter_plot(points,hull)"
   ]
  },
  {
   "cell_type": "markdown",
   "id": "f6fc48d1",
   "metadata": {},
   "source": [
    "### implementación del sweep line "
   ]
  },
  {
   "cell_type": "code",
   "execution_count": 12,
   "id": "8682aae6",
   "metadata": {},
   "outputs": [
    {
     "ename": "NameError",
     "evalue": "name 'pts' is not defined",
     "output_type": "error",
     "traceback": [
      "\u001b[1;31m---------------------------------------------------------------------------\u001b[0m",
      "\u001b[1;31mNameError\u001b[0m                                 Traceback (most recent call last)",
      "Input \u001b[1;32mIn [12]\u001b[0m, in \u001b[0;36m<cell line: 3>\u001b[1;34m()\u001b[0m\n\u001b[0;32m      1\u001b[0m \u001b[38;5;66;03m# vamos a suponer que recibimos una lista P de puntos los cuales cada dos puntos\u001b[39;00m\n\u001b[0;32m      2\u001b[0m \u001b[38;5;66;03m# significa un segmento que evluar\u001b[39;00m\n\u001b[1;32m----> 3\u001b[0m \u001b[38;5;28;01mclass\u001b[39;00m \u001b[38;5;21;01mqueue\u001b[39;00m(\u001b[43mpts\u001b[49m):\n\u001b[0;32m      4\u001b[0m     \u001b[38;5;28;01mdef\u001b[39;00m \u001b[38;5;21m__init__\u001b[39m(\u001b[38;5;28mself\u001b[39m,pts):\n\u001b[0;32m      5\u001b[0m         \u001b[38;5;28mself\u001b[39m\u001b[38;5;241m.\u001b[39mupper \u001b[38;5;241m=\u001b[39m [x[\u001b[38;5;241m0\u001b[39m] \u001b[38;5;28;01mfor\u001b[39;00m x \u001b[38;5;129;01min\u001b[39;00m pts]\n",
      "\u001b[1;31mNameError\u001b[0m: name 'pts' is not defined"
     ]
    }
   ],
   "source": [
    "# vamos a suponer que recibimos una lista P de puntos los cuales cada dos puntos\n",
    "# significa un segmento que evluar\n",
    "class queue(self,pts):\n",
    "    def __init__(self,pts):\n",
    "        self.upper = [x[0] for x in pts]\n",
    "        self.lower = [y[1] for y in pts]\n",
    "        \n",
    "    def order(self,pts):\n",
    "        q_order = []\n",
    "        q_order.extend(pts[0],pts[1])\n",
    "        \n",
    "        \n",
    "        \n",
    "        "
   ]
  },
  {
   "cell_type": "code",
   "execution_count": 22,
   "id": "0aba8b3b",
   "metadata": {},
   "outputs": [
    {
     "ename": "TypeError",
     "evalue": "cannot unpack non-iterable int object",
     "output_type": "error",
     "traceback": [
      "\u001b[1;31m---------------------------------------------------------------------------\u001b[0m",
      "\u001b[1;31mTypeError\u001b[0m                                 Traceback (most recent call last)",
      "Input \u001b[1;32mIn [22]\u001b[0m, in \u001b[0;36m<cell line: 4>\u001b[1;34m()\u001b[0m\n\u001b[0;32m      1\u001b[0m q_order\u001b[38;5;241m=\u001b[39m[] \n\u001b[0;32m      2\u001b[0m q_order\u001b[38;5;241m.\u001b[39mextend((points[\u001b[38;5;241m0\u001b[39m],points[\u001b[38;5;241m1\u001b[39m]))\n\u001b[1;32m----> 4\u001b[0m \u001b[38;5;28;01mfor\u001b[39;00m i,(x,y) \u001b[38;5;129;01min\u001b[39;00m points:\n\u001b[0;32m      5\u001b[0m     \u001b[38;5;28mprint\u001b[39m (i,x,y)\n",
      "\u001b[1;31mTypeError\u001b[0m: cannot unpack non-iterable int object"
     ]
    }
   ],
   "source": [
    "q_order=[] \n",
    "q_order.extend((points[0],points[1]))\n",
    "\n",
    "for i,(x,y) in points:\n",
    "    print (i,x,y)"
   ]
  },
  {
   "cell_type": "code",
   "execution_count": null,
   "id": "680fd7d1",
   "metadata": {},
   "outputs": [],
   "source": []
  }
 ],
 "metadata": {
  "kernelspec": {
   "display_name": "Python 3 (ipykernel)",
   "language": "python",
   "name": "python3"
  },
  "language_info": {
   "codemirror_mode": {
    "name": "ipython",
    "version": 3
   },
   "file_extension": ".py",
   "mimetype": "text/x-python",
   "name": "python",
   "nbconvert_exporter": "python",
   "pygments_lexer": "ipython3",
   "version": "3.9.12"
  }
 },
 "nbformat": 4,
 "nbformat_minor": 5
}
