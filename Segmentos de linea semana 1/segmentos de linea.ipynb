{
 "cells": [
  {
   "cell_type": "code",
   "execution_count": 1,
   "id": "460c8a4a",
   "metadata": {},
   "outputs": [],
   "source": [
    "import numpy as np\n",
    "import matplotlib.pyplot as plt"
   ]
  },
  {
   "cell_type": "code",
   "execution_count": 2,
   "id": "92b80c9a",
   "metadata": {},
   "outputs": [],
   "source": [
    "class Point:\n",
    "    def __init__(self,cordinates,name):\n",
    "        self.x = cordinates[0]\n",
    "        self.y = cordinates[1]\n",
    "        self.name = name\n",
    "        \n",
    "    def __repr__(self):\n",
    "        return (f\"({self.x}, {self.y})\" )\n",
    "    \n",
    "    def __str__(self):\n",
    "        return (self.name)\n",
    "    \n",
    "    def __sub__(self, other):\n",
    "        if isinstance(other, Point):\n",
    "            return Point((self.x - other.x, self.y - other.y), f\"{self.name}-{other.name}\")\n",
    "        else:\n",
    "            raise TypeError(\"Unsupported operand type for -: Point and {}\".format(type(other).__name__))\n",
    "\n",
    "    \n",
    "        "
   ]
  },
  {
   "cell_type": "code",
   "execution_count": 3,
   "id": "9cf84b08",
   "metadata": {},
   "outputs": [],
   "source": [
    "\n",
    "def cross_point(p0,p1,p2):# tomamos p0 como el punto de origen, p1 como el punto que queremos categorizar, respecto a p2\n",
    "                       \n",
    "    prod1 = (p1.x - p0.x) * (p2.y - p0.y)\n",
    "    prod2 = (p1.y - p0.y) * (p2.x - p0.x)\n",
    "    res = prod1 - prod2\n",
    "    if res < 0 : return 1   #print(\"p1 esta en sentido horario respecto a p2 - p0\")\n",
    "    elif res > 0 :return -1 #print (\"p1 esta en sentido anti-horario respecto a p2 - p0\")\n",
    "    else: return 0          #print(\" los segmentos son colineales\")"
   ]
  },
  {
   "cell_type": "code",
   "execution_count": 4,
   "id": "50f7b70f",
   "metadata": {},
   "outputs": [],
   "source": [
    "def visualization(points):\n",
    "    fig, ax = plt.subplots(figsize=(3,3))\n",
    "    colors = ['blue','red','green','orange','purple','cyan','brown']\n",
    "    \n",
    "    for i in range(0, len(points)-1,2):\n",
    "        plt.arrow(points[i].x, points[i].y, points[i+1].x - points[i].x, points[i+1].y - points[i].y, head_width =0.05, head_length=0.05,\n",
    "                 color=colors[i], label= f\"{points[i+1]}-{points[i]}\")\n",
    "        \n",
    "        \n",
    "    plt.legend()\n",
    "    plt.show()"
   ]
  },
  {
   "cell_type": "code",
   "execution_count": 5,
   "id": "7a45331f",
   "metadata": {},
   "outputs": [],
   "source": [
    "# def visualization(points):\n",
    "#     x = [coor.x for coor in points]\n",
    "#     y = [coor.y for coor in points]\n",
    "#     colors = ['blue','red','green','orange','purple','cyan','brown']\n",
    "#     fig, ax = plt.subplots()\n",
    "    \n",
    "    \n",
    "#     # Plot the lines segments\n",
    "#     for i in range(len(x) - 1):\n",
    "#         plt.plot([x[i], x[i+1]], [y[i], y[i+1]], marker='o',linestyle='-',color=colors[i], label=f\"{}\")\n",
    "    \n",
    "   \n",
    "#     plt.show()"
   ]
  },
  {
   "cell_type": "markdown",
   "id": "53f3f917",
   "metadata": {},
   "source": [
    "### Primera pregunta \n",
    "#### Dado dos segmentos de linea que parten desde el origen definir si P1 esta en sentido horario o antihorario respecto a P2"
   ]
  },
  {
   "cell_type": "code",
   "execution_count": 6,
   "id": "c85e46f1",
   "metadata": {},
   "outputs": [
    {
     "name": "stdout",
     "output_type": "stream",
     "text": [
      "P0\n"
     ]
    },
    {
     "data": {
      "text/plain": [
       "(0, 0)"
      ]
     },
     "execution_count": 6,
     "metadata": {},
     "output_type": "execute_result"
    }
   ],
   "source": [
    "p0 = (0,0)\n",
    "p1 = (2,1)\n",
    "p2 = (0,4)\n",
    "\n",
    "P0 = Point(p0,\"P0\")\n",
    "P1 = Point(p1,\"P1\")\n",
    "P2 = Point(p2,\"P2\")\n",
    "print(P0)\n",
    "P0"
   ]
  },
  {
   "cell_type": "code",
   "execution_count": 7,
   "id": "8a931c36",
   "metadata": {},
   "outputs": [
    {
     "data": {
      "image/png": "[encoded data removed]",
      "text/plain": [
       "<Figure size 300x300 with 1 Axes>"
      ]
     },
     "metadata": {},
     "output_type": "display_data"
    }
   ],
   "source": [
    "\n",
    "cross_point(P0,P1,P2)\n",
    "points = [P0,P1,P0,P2]\n",
    "visualization(points)"
   ]
  },
  {
   "cell_type": "code",
   "execution_count": 8,
   "id": "b32dea57",
   "metadata": {
    "scrolled": true
   },
   "outputs": [
    {
     "data": {
      "image/png": "[encoded data removed]",
      "text/plain": [
       "<Figure size 300x300 with 1 Axes>"
      ]
     },
     "metadata": {},
     "output_type": "display_data"
    }
   ],
   "source": [
    "p0 = (0,0)\n",
    "p1 = (4,5)\n",
    "p2 = (2,2)\n",
    "\n",
    "P0 = Point(p0,\"P0\")\n",
    "P1 = Point(p1,\"P1\")\n",
    "P2 = Point(p2,\"P2\")\n",
    "\n",
    "\n",
    "cross_point(P0,P1,P2)\n",
    "points = [P0,P1,P0,P2]\n",
    "visualization(points)"
   ]
  },
  {
   "cell_type": "markdown",
   "id": "6a52fe02",
   "metadata": {},
   "source": [
    "### Segunda pregunta \n",
    "#### si los vectores no comparten un punto en comun "
   ]
  },
  {
   "cell_type": "code",
   "execution_count": 9,
   "id": "e3ca5247",
   "metadata": {},
   "outputs": [
    {
     "data": {
      "image/png": "[encoded data removed]",
      "text/plain": [
       "<Figure size 300x300 with 1 Axes>"
      ]
     },
     "metadata": {},
     "output_type": "display_data"
    }
   ],
   "source": [
    "p0 = (1,1)\n",
    "p1 = (2,1)\n",
    "p2 = (3,3)\n",
    "\n",
    "P0 = Point(p0,\"P0\")\n",
    "P1 = Point(p1,\"P1\")\n",
    "P2 = Point(p2,\"P2\")\n",
    "\n",
    "\n",
    "cross_point(P0,P1,P2)\n",
    "points = [P0,P1,P1,P2]\n",
    "visualization(points) "
   ]
  },
  {
   "cell_type": "markdown",
   "id": "e66bcd1d",
   "metadata": {},
   "source": [
    "### Tercera pregunta \n",
    "#### como saber si dos segmentos de linea se cruzan "
   ]
  },
  {
   "cell_type": "code",
   "execution_count": 10,
   "id": "4aee4f7e",
   "metadata": {},
   "outputs": [],
   "source": [
    "def on_segment(Pi,Pp,Pr): # Pinicial, Pproncipal, Preferente(respecto a)\n",
    "    if min(Pi.x,Pp.x) <= Pr.x and Pr.x <= max(Pi.x,Pp.x) and \\\n",
    "    min(Pi.y,Pp.y) <= Pr.y and Pr.y <= max(Pi.y,Pp.y):\n",
    "        return True\n",
    "    else: return False\n",
    "    \n",
    "def intesect_segments(P0,P1,P2,P3):\n",
    "    d0 = cross_point(P2,P0,P3)\n",
    "    d1 = cross_point(P2,P1,P3)\n",
    "    d2 = cross_point(P0,P2,P1)\n",
    "    d3 = cross_point(P0,P3,P1)\n",
    "    \n",
    "    if d0 * d1 < 0 and d2 * d3 < 0:\n",
    "        \n",
    "        return True\n",
    "    elif d0 == 0 and on_segment(P2,P0,P3): return True\n",
    "    elif d1 == 0 and on_segment(P2,P1,P3): return True\n",
    "    elif d2 == 0 and on_segment(P0,P2,P1): return True\n",
    "    elif d3 == 0 and on_segment(P0,P3,P1): return True\n",
    "    else:return False\n",
    "\n",
    "\n",
    "        "
   ]
  },
  {
   "cell_type": "markdown",
   "id": "f0e2b0c0",
   "metadata": {},
   "source": [
    "#### Caso \"fácil\"\n"
   ]
  },
  {
   "cell_type": "code",
   "execution_count": 11,
   "id": "8eacaece",
   "metadata": {},
   "outputs": [
    {
     "data": {
      "image/png": "[encoded data removed]",
      "text/plain": [
       "<Figure size 300x300 with 1 Axes>"
      ]
     },
     "metadata": {},
     "output_type": "display_data"
    },
    {
     "data": {
      "text/plain": [
       "True"
      ]
     },
     "execution_count": 11,
     "metadata": {},
     "output_type": "execute_result"
    }
   ],
   "source": [
    "P0 = Point((2,0),'P0')\n",
    "P1 = Point((2,2),'P1')\n",
    "P2 = Point((1,1),'P2')\n",
    "P3 = Point((3,1),'P3')\n",
    "points = [P0,P1,P2,P3]\n",
    "visualization(points)\n",
    "intesect_segments(P0,P1,P2,P3)"
   ]
  },
  {
   "cell_type": "code",
   "execution_count": 12,
   "id": "b0ce9704",
   "metadata": {},
   "outputs": [
    {
     "data": {
      "image/png": "[encoded data removed]",
      "text/plain": [
       "<Figure size 300x300 with 1 Axes>"
      ]
     },
     "metadata": {},
     "output_type": "display_data"
    },
    {
     "data": {
      "text/plain": [
       "True"
      ]
     },
     "execution_count": 12,
     "metadata": {},
     "output_type": "execute_result"
    }
   ],
   "source": [
    "P0 = Point((1,0),'P0')\n",
    "P1 = Point((0,1),'P1')\n",
    "P2 = Point((0,1),'P2')\n",
    "P3 = Point((2,1),'P3')\n",
    "points = [P0,P1,P2,P3]\n",
    "visualization(points)\n",
    "intesect_segments(P0,P1,P2,P3)"
   ]
  },
  {
   "cell_type": "code",
   "execution_count": 16,
   "id": "e27f9774",
   "metadata": {
    "scrolled": true
   },
   "outputs": [
    {
     "data": {
      "image/png": "[encoded data removed]",
      "text/plain": [
       "<Figure size 300x300 with 1 Axes>"
      ]
     },
     "metadata": {},
     "output_type": "display_data"
    },
    {
     "data": {
      "text/plain": [
       "True"
      ]
     },
     "execution_count": 16,
     "metadata": {},
     "output_type": "execute_result"
    }
   ],
   "source": [
    "P0 = Point((0,0),'P0')\n",
    "P1 = Point((2,0),'P1')\n",
    "P2 = Point((1,0),'P2')\n",
    "P3 = Point((3,0),'P3')\n",
    "points = [P0,P1,P2,P3]\n",
    "visualization(points)\n",
    "intesect_segments(P0,P1,P2,P3)"
   ]
  },
  {
   "cell_type": "code",
   "execution_count": 29,
   "id": "2369d158",
   "metadata": {},
   "outputs": [],
   "source": [
    "def found_point(P0, P1, P2, P3):\n",
    "    if intesect_segments(P0, P1, P2, P3):\n",
    "        X = np.array([[P0.x - P1.x, P3.x - P2.x], [P0.y - P1.y, P3.y - P2.y]])\n",
    "        y = np.array([P3.x - P1.x, P3.y - P1.y])\n",
    "        Xinv = np.linalg(X)\n",
    "        res = np.dot(Xinv, y)\n",
    "        alpha = res[0]\n",
    "        beta = res[1]\n",
    "        Px_R = alpha * P0.x + (1 - alpha) * P1.x\n",
    "        Py_R = alpha * P0.y + (1 - alpha) * P1.y\n",
    "        Pres = Point((Px_R, Py_R), 'P_int')\n",
    "        return Pres\n",
    "    else:\n",
    "        return False\n",
    "    "
   ]
  },
  {
   "cell_type": "code",
   "execution_count": 27,
   "id": "989459ee",
   "metadata": {},
   "outputs": [
    {
     "data": {
      "text/plain": [
       "array([[ 0,  2],\n",
       "       [-2,  0]])"
      ]
     },
     "execution_count": 27,
     "metadata": {},
     "output_type": "execute_result"
    }
   ],
   "source": [
    "P0 = Point((2,0),'P0')\n",
    "P1 = Point((2,2),'P1')\n",
    "P2 = Point((1,1),'P2')\n",
    "P3 = Point((3,1),'P3')\n",
    "points = [P0,P1,P2,P3]\n",
    "found_point(P0, P1, P2, P3)"
   ]
  },
  {
   "cell_type": "code",
   "execution_count": 17,
   "id": "0ed52371",
   "metadata": {},
   "outputs": [
    {
     "ename": "TypeError",
     "evalue": "unsupported operand type(s) for *: 'Point' and 'float'",
     "output_type": "error",
     "traceback": [
      "\u001b[1;31m---------------------------------------------------------------------------\u001b[0m",
      "\u001b[1;31mTypeError\u001b[0m                                 Traceback (most recent call last)",
      "Cell \u001b[1;32mIn[17], line 1\u001b[0m\n\u001b[1;32m----> 1\u001b[0m \u001b[43mP0\u001b[49m\u001b[43m \u001b[49m\u001b[38;5;241;43m*\u001b[39;49m\u001b[43m \u001b[49m\u001b[38;5;241;43m0.5\u001b[39;49m\n",
      "\u001b[1;31mTypeError\u001b[0m: unsupported operand type(s) for *: 'Point' and 'float'"
     ]
    }
   ],
   "source": []
  },
  {
   "cell_type": "code",
   "execution_count": null,
   "id": "8c648f06",
   "metadata": {},
   "outputs": [],
   "source": []
  },
  {
   "cell_type": "code",
   "execution_count": null,
   "id": "50886e18",
   "metadata": {},
   "outputs": [],
   "source": []
  },
  {
   "cell_type": "code",
   "execution_count": null,
   "id": "e3bba3c5",
   "metadata": {},
   "outputs": [],
   "source": []
  },
  {
   "cell_type": "code",
   "execution_count": null,
   "id": "c5461018",
   "metadata": {},
   "outputs": [],
   "source": []
  },
  {
   "cell_type": "markdown",
   "id": "9fb63b79",
   "metadata": {},
   "source": [
    "## Tarea revisar el caso en el que p0 p1 p2 sean colineales pero p2 hiciera un giro de 180 grados "
   ]
  },
  {
   "cell_type": "code",
   "execution_count": null,
   "id": "4b4bfb56",
   "metadata": {},
   "outputs": [],
   "source": []
  },
  {
   "cell_type": "code",
   "execution_count": null,
   "id": "c5e33eb6",
   "metadata": {},
   "outputs": [],
   "source": []
  },
  {
   "cell_type": "code",
   "execution_count": 14,
   "id": "31937520",
   "metadata": {},
   "outputs": [],
   "source": [
    "p0 = (1,1)\n",
    "p1 = (3,1)\n",
    "p2 = (2,1)\n",
    "\n",
    "P0 = Point(p0,\"P0\")\n",
    "P1 = Point(p1,\"P1\")\n",
    "P2 = Point(p2,\"P2\")\n"
   ]
  },
  {
   "cell_type": "code",
   "execution_count": 15,
   "id": "fc01b2bd",
   "metadata": {},
   "outputs": [
    {
     "data": {
      "image/png": "[encoded data removed]",
      "text/plain": [
       "<Figure size 300x300 with 1 Axes>"
      ]
     },
     "metadata": {},
     "output_type": "display_data"
    }
   ],
   "source": [
    "\n",
    "cross_point(P0,P1,P2)\n",
    "points = [P0,P1,P1,P2]\n",
    "visualization(points) "
   ]
  },
  {
   "cell_type": "code",
   "execution_count": null,
   "id": "d60ccfb1",
   "metadata": {},
   "outputs": [],
   "source": []
  },
  {
   "cell_type": "code",
   "execution_count": null,
   "id": "3a0ebd50",
   "metadata": {},
   "outputs": [],
   "source": []
  },
  {
   "cell_type": "code",
   "execution_count": null,
   "id": "2328fc4b",
   "metadata": {},
   "outputs": [],
   "source": []
  },
  {
   "cell_type": "code",
   "execution_count": null,
   "id": "0a59f241",
   "metadata": {},
   "outputs": [],
   "source": []
  },
  {
   "cell_type": "code",
   "execution_count": null,
   "id": "2f39d24c",
   "metadata": {},
   "outputs": [],
   "source": []
  },
  {
   "cell_type": "code",
   "execution_count": null,
   "id": "45b8aa33",
   "metadata": {},
   "outputs": [],
   "source": []
  },
  {
   "cell_type": "code",
   "execution_count": null,
   "id": "a3b39c1d",
   "metadata": {},
   "outputs": [],
   "source": []
  },
  {
   "cell_type": "code",
   "execution_count": null,
   "id": "75bd5642",
   "metadata": {},
   "outputs": [],
   "source": []
  },
  {
   "cell_type": "code",
   "execution_count": null,
   "id": "849a52d1",
   "metadata": {},
   "outputs": [],
   "source": []
  },
  {
   "cell_type": "code",
   "execution_count": null,
   "id": "5a7f4eb4",
   "metadata": {},
   "outputs": [],
   "source": []
  },
  {
   "cell_type": "code",
   "execution_count": null,
   "id": "c5c517e0",
   "metadata": {},
   "outputs": [],
   "source": []
  },
  {
   "cell_type": "code",
   "execution_count": null,
   "id": "224ba553",
   "metadata": {},
   "outputs": [],
   "source": []
  }
 ],
 "metadata": {
  "kernelspec": {
   "display_name": "Python 3 (ipykernel)",
   "language": "python",
   "name": "python3"
  },
  "language_info": {
   "codemirror_mode": {
    "name": "ipython",
    "version": 3
   },
   "file_extension": ".py",
   "mimetype": "text/x-python",
   "name": "python",
   "nbconvert_exporter": "python",
   "pygments_lexer": "ipython3",
   "version": "3.10.9"
  }
 },
 "nbformat": 4,
 "nbformat_minor": 5
}
