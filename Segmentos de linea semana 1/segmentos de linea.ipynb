{
 "cells": [
  {
   "cell_type": "code",
   "execution_count": 1,
   "id": "460c8a4a",
   "metadata": {},
   "outputs": [],
   "source": [
    "import numpy as np\n",
    "import matplotlib.pyplot as plt"
   ]
  },
  {
   "cell_type": "code",
   "execution_count": 17,
   "id": "92b80c9a",
   "metadata": {},
   "outputs": [],
   "source": [
    "class Point:\n",
    "    def __init__(self,cordinates,name):\n",
    "        self.x = cordinates[0]\n",
    "        self.y = cordinates[1]\n",
    "        self.name = name\n",
    "        \n",
    "    def __repr__(self):\n",
    "        return (f\"({self.x}, {self.y})\" )\n",
    "    \n",
    "    def __str__(self):\n",
    "        return (self.name)\n",
    "    \n",
    "    def cross_point(self,p0,p2):# partimos de que p1 es el punto que queremos indentificar respecto a p2 \n",
    "                           #y p0 es el vector que usaremos para mandar los vectores p1 y p2 al origen  \n",
    "        prod1 = (self.x - p0.x) * (p2.y - p0.y)\n",
    "        prod2 = (self.y - p0.y) * (p2.x - p0.x)\n",
    "        res = prod1 - prod2\n",
    "        if res < 0 : print(\"p1 esta en sentido horario respecto a p2 - p0\")\n",
    "        elif res > 0 : print (\"p1 esta en sentido anti-horario respecto a p2 - p0\")\n",
    "        else: print(\" los segmentos son colineales\")\n",
    "        "
   ]
  },
  {
   "cell_type": "code",
   "execution_count": 57,
   "id": "50f7b70f",
   "metadata": {},
   "outputs": [],
   "source": [
    "def visualization2(points):\n",
    "    fig, ax = plt.subplots(figsize=(3,3))\n",
    "    colors = ['blue','red','green','orange','purple','cyan','brown']\n",
    "    \n",
    "    for i in range(0, len(points)-1,2):\n",
    "        plt.arrow(points[i].x, points[i].y, points[i+1].x - points[i].x, points[i+1].y - points[i].y, head_width =0.05, head_length=0.05,\n",
    "                 color=colors[i], label= f\"{points[i+1]}-{points[i]}\")\n",
    "        \n",
    "        print(i)\n",
    "    plt.legend()\n",
    "    plt.show()"
   ]
  },
  {
   "cell_type": "code",
   "execution_count": 58,
   "id": "7a45331f",
   "metadata": {},
   "outputs": [
    {
     "ename": "SyntaxError",
     "evalue": "f-string: empty expression not allowed (2530944801.py, line 10)",
     "output_type": "error",
     "traceback": [
      "\u001b[1;36m  Cell \u001b[1;32mIn[58], line 10\u001b[1;36m\u001b[0m\n\u001b[1;33m    plt.plot([x[i], x[i+1]], [y[i], y[i+1]], marker='o',linestyle='-',color=colors[i], label=f\"{}\")\u001b[0m\n\u001b[1;37m                                                                                                  ^\u001b[0m\n\u001b[1;31mSyntaxError\u001b[0m\u001b[1;31m:\u001b[0m f-string: empty expression not allowed\n"
     ]
    }
   ],
   "source": [
    "def visualization(points):\n",
    "    x = [coor.x for coor in points]\n",
    "    y = [coor.y for coor in points]\n",
    "    colors = ['blue','red','green','orange','purple','cyan','brown']\n",
    "    fig, ax = plt.subplots()\n",
    "    \n",
    "    \n",
    "    # Plot the lines segments\n",
    "    for i in range(len(x) - 1):\n",
    "        plt.plot([x[i], x[i+1]], [y[i], y[i+1]], marker='o',linestyle='-',color=colors[i], label=f\"{}\")\n",
    "    \n",
    "   \n",
    "    plt.show()"
   ]
  },
  {
   "cell_type": "markdown",
   "id": "53f3f917",
   "metadata": {},
   "source": [
    "### Primera pregunta \n",
    "#### Dado dos segmentos de linea que parten desde el origen definir si P1 esta en sentido horario o antihorario respecto a P2"
   ]
  },
  {
   "cell_type": "code",
   "execution_count": 59,
   "id": "c85e46f1",
   "metadata": {},
   "outputs": [
    {
     "name": "stdout",
     "output_type": "stream",
     "text": [
      "P0\n"
     ]
    },
    {
     "data": {
      "text/plain": [
       "(0, 0)"
      ]
     },
     "execution_count": 59,
     "metadata": {},
     "output_type": "execute_result"
    }
   ],
   "source": [
    "p0 = (0,0)\n",
    "p1 = (2,1)\n",
    "p2 = (0,4)\n",
    "\n",
    "P0 = Point(p0,\"P0\")\n",
    "P1 = Point(p1,\"P1\")\n",
    "P2 = Point(p2,\"P2\")\n",
    "print(P0)\n",
    "P0"
   ]
  },
  {
   "cell_type": "code",
   "execution_count": 60,
   "id": "8a931c36",
   "metadata": {},
   "outputs": [
    {
     "name": "stdout",
     "output_type": "stream",
     "text": [
      "p1 esta en sentido horario respecto a p2 - p0\n",
      "0\n",
      "2\n"
     ]
    },
    {
     "data": {
      "image/png": "[encoded data removed]",
      "text/plain": [
       "<Figure size 300x300 with 1 Axes>"
      ]
     },
     "metadata": {},
     "output_type": "display_data"
    }
   ],
   "source": [
    "\n",
    "P1.cross_point(P0,P2)\n",
    "points = [P0,P1,P0,P2]\n",
    "visualization2(points)"
   ]
  },
  {
   "cell_type": "code",
   "execution_count": 61,
   "id": "b32dea57",
   "metadata": {
    "scrolled": true
   },
   "outputs": [
    {
     "name": "stdout",
     "output_type": "stream",
     "text": [
      "p1 esta en sentido anti-horario respecto a p2 - p0\n",
      "0\n",
      "2\n"
     ]
    },
    {
     "data": {
      "image/png": "[encoded data removed]",
      "text/plain": [
       "<Figure size 300x300 with 1 Axes>"
      ]
     },
     "metadata": {},
     "output_type": "display_data"
    }
   ],
   "source": [
    "p0 = (0,0)\n",
    "p1 = (4,5)\n",
    "p2 = (2,2)\n",
    "\n",
    "P0 = Point(p0,\"P0\")\n",
    "P1 = Point(p1,\"P1\")\n",
    "P2 = Point(p2,\"P2\")\n",
    "\n",
    "P1.cross_point(P0,P2)\n",
    "points = [P0,P1,P0,P2]\n",
    "visualization2(points)"
   ]
  },
  {
   "cell_type": "markdown",
   "id": "6a52fe02",
   "metadata": {},
   "source": [
    "### Segunda pregunta \n",
    "#### si los vectores no comparten un punto en comun "
   ]
  },
  {
   "cell_type": "code",
   "execution_count": 63,
   "id": "e3ca5247",
   "metadata": {},
   "outputs": [
    {
     "name": "stdout",
     "output_type": "stream",
     "text": [
      "p1 esta en sentido horario respecto a p2 - p0\n",
      "0\n",
      "2\n"
     ]
    },
    {
     "data": {
      "image/png": "[encoded data removed]",
      "text/plain": [
       "<Figure size 300x300 with 1 Axes>"
      ]
     },
     "metadata": {},
     "output_type": "display_data"
    }
   ],
   "source": [
    "p0 = (1,1)\n",
    "p1 = (2,1)\n",
    "p2 = (3,3)\n",
    "\n",
    "P0 = Point(p0,\"P0\")\n",
    "P1 = Point(p1,\"P1\")\n",
    "P2 = Point(p2,\"P2\")\n",
    "\n",
    "P1.cross_point(P0,P2)\n",
    "points = [P0,P1,P1,P2]\n",
    "visualization2(points) "
   ]
  },
  {
   "cell_type": "markdown",
   "id": "e66bcd1d",
   "metadata": {},
   "source": [
    "### Tercera pregunta \n",
    "#### como saber si dos segmentos de linea se cruzan "
   ]
  },
  {
   "cell_type": "markdown",
   "id": "9fb63b79",
   "metadata": {},
   "source": [
    "## Tarea revisar el caso en el que p0 p1 p2 sean colineales pero p2 hiciera un giro de 180 grados "
   ]
  },
  {
   "cell_type": "code",
   "execution_count": 66,
   "id": "31937520",
   "metadata": {},
   "outputs": [],
   "source": [
    "p0 = (1,1)\n",
    "p1 = (3,1)\n",
    "p2 = (2,1)\n",
    "\n",
    "P0 = Point(p0,\"P0\")\n",
    "P1 = Point(p1,\"P1\")\n",
    "P2 = Point(p2,\"P2\")\n"
   ]
  },
  {
   "cell_type": "code",
   "execution_count": 67,
   "id": "fc01b2bd",
   "metadata": {},
   "outputs": [
    {
     "name": "stdout",
     "output_type": "stream",
     "text": [
      "p1 esta en sentido anti-horario respecto a p2 - p0\n",
      "0\n",
      "2\n"
     ]
    },
    {
     "data": {
      "image/png": "[encoded data removed]",
      "text/plain": [
       "<Figure size 300x300 with 1 Axes>"
      ]
     },
     "metadata": {},
     "output_type": "display_data"
    }
   ],
   "source": [
    "P1.cross_point(P0,P2)\n",
    "points = [P0,P1,P1,P2]\n",
    "visualization2(points) "
   ]
  },
  {
   "cell_type": "code",
   "execution_count": null,
   "id": "d60ccfb1",
   "metadata": {},
   "outputs": [],
   "source": []
  }
 ],
 "metadata": {
  "kernelspec": {
   "display_name": "Python 3 (ipykernel)",
   "language": "python",
   "name": "python3"
  },
  "language_info": {
   "codemirror_mode": {
    "name": "ipython",
    "version": 3
   },
   "file_extension": ".py",
   "mimetype": "text/x-python",
   "name": "python",
   "nbconvert_exporter": "python",
   "pygments_lexer": "ipython3",
   "version": "3.10.9"
  }
 },
 "nbformat": 4,
 "nbformat_minor": 5
}
