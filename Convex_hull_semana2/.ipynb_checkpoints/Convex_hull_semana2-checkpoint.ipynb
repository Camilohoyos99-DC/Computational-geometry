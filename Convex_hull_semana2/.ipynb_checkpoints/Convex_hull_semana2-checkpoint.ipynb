{
 "cells": [
  {
   "cell_type": "code",
   "execution_count": 1,
   "metadata": {
    "id": "navrUQiJP_yc"
   },
   "outputs": [],
   "source": [
    "import numpy as np\n",
    "import matplotlib.pyplot as plt\n",
    "import random"
   ]
  },
  {
   "cell_type": "code",
   "execution_count": 2,
   "metadata": {
    "id": "N_OnO5WDQI-G"
   },
   "outputs": [],
   "source": [
    "import numpy as np\n",
    "import matplotlib.pyplot as plt\n",
    "import random\n",
    "\n",
    "class Point:\n",
    "    def __init__(self,cordinates,name):\n",
    "        self.x = cordinates[0]\n",
    "        self.y = cordinates[1]\n",
    "        self.name = name\n",
    "\n",
    "    def __repr__(self):\n",
    "        return (f\"({self.x}, {self.y})\" )\n",
    "\n",
    "    def __str__(self):\n",
    "        return (self.name)\n",
    "\n",
    "    def magnitud(self):\n",
    "      numbers = [self.x, self.y]\n",
    "      sqrt_sum_power = np.sqrt(sum(np.power(numbers, 2)))\n",
    "      return sqrt_sum_power\n",
    "\n",
    "    @classmethod\n",
    "    def generate_random_points(cls,n):\n",
    "      random_points = []\n",
    "      for i in range(n):\n",
    "        x = np.random.randint(0, 100)\n",
    "        y = np.random.randint(0, 100)\n",
    "        random_points.append(cls((x,y),f'P{i}'))\n",
    "      return random_points"
   ]
  },
  {
   "cell_type": "code",
   "execution_count": 3,
   "metadata": {
    "id": "ZLygF-IOQVEW"
   },
   "outputs": [],
   "source": [
    "def cross_product(p0,p1,p2):# tomamos p0 como el punto de origen, p1 como el punto que queremos categorizar, respecto a p2\n",
    "\n",
    "    prod1 = (p1.x - p0.x) * (p2.y - p0.y)\n",
    "    prod2 = (p1.y - p0.y) * (p2.x - p0.x)\n",
    "    res = prod1 - prod2\n",
    "    if res < 0 : return 1   #print(\"p1 esta en sentido horario respecto a p2 - p0\")\n",
    "    elif res > 0 :return -1 #print (\"p1 esta en sentido anti-horario respecto a p2 - p0\")\n",
    "    else: return 0          #print(\" los segmentos son colineales\")\n",
    "\n",
    "def check_last3_points(points): # detecta si se agregó algún punto que generó un giro antihorario\n",
    "    pn = points[-1]\n",
    "    pn_1 = points[-2]\n",
    "    pn_2 = points[-3]\n",
    "    cross = cross_product(pn_2,pn_1,pn)\n",
    "    if cross == 1 or cross == 0:\n",
    "        #print (\"giro a la derecha (horario)\")\n",
    "        return 1\n",
    "    else:\n",
    "        #print (\"giro a la izquierda (antihorario)\")\n",
    "        return 0"
   ]
  },
  {
   "cell_type": "code",
   "execution_count": 4,
   "metadata": {
    "id": "jVqo5GKHQcE6"
   },
   "outputs": [],
   "source": [
    "\n",
    "def sort_lexico(points):# se usa la funcion lambda y el sort de python para ordenar los puntos\n",
    "    sorted_lst = sorted(points, key=lambda point: (point.x, point.y))\n",
    "    return sorted_lst\n"
   ]
  },
  {
   "cell_type": "markdown",
   "metadata": {
    "id": "i9JniATBVYPi"
   },
   "source": [
    "Vamos a comenzar con los pasos del algoritmo:\n",
    "1) ordenar los puntos segun su coordenada x\n",
    "\n",
    "o en este caso usando orden lexico gráfico\n",
    "\n",
    "\n",
    "\n",
    "> Bloque con sangría\n",
    "\n",
    "\n"
   ]
  },
  {
   "cell_type": "code",
   "execution_count": null,
   "metadata": {
    "id": "yVw9cDm0YADf"
   },
   "outputs": [],
   "source": [
    "\n"
   ]
  },
  {
   "cell_type": "markdown",
   "metadata": {
    "id": "6C88DS2paSnX"
   },
   "source": [
    "2) oRDENAR LSO n-1 PUNTOS según la pendiente que corresponde al segmento formado p0 con [p1,p2,p3,......]\n",
    "varios puntos con la misma pendiente selecciono únicamente el que esta más lejos de p0\n",
    "**TENGO LA DUDA SI CUANDO DICE ÚNICAMENTE EL QUE ESTÁ MÁS LEJOS DE P0 DEBO DESECHARLO COMO PUNTO A TOMAR EN CUENTA O SIMPLEMENTE CAMBIARLO DE LUGAR HARÉ LO PRIMERO POR SIMPLICIDAD**"
   ]
  },
  {
   "cell_type": "code",
   "execution_count": 5,
   "metadata": {
    "id": "Ed5FQqSCYULj"
   },
   "outputs": [],
   "source": [
    "def ordenar_pendientes(points):\n",
    "    points = sorted(points, key=lambda point: point[1]) # ordenamos por pendiente\n",
    "    cont = 0\n",
    "    while cont + 1 < len(points):\n",
    "     # ya que estan oredenados verificamos si las pendientes son iguales\n",
    "    if points[cont][1] == points[cont+1][1]:\n",
    "\n",
    "      # en caso que si, verificamos cual tiene mayor magnitud\n",
    "      if abs(points[cont].magnitud()) >= abs(points[cont+1].magnitud()): points.remove(points[cont +1])\n",
    "        else :points.remove(points[cont])\n",
    "\n",
    "      cont -= 1 # restamos para asegurarnos de que no hayan dos pendientes consecutivas iguales\n",
    "    else : cont += 1\n",
    "    return points\n",
    "\n",
    "\n",
    "def pendientes(points, P0):\n",
    "    pendientes = []\n",
    "    N = len(points)\n",
    "    new_array = []\n",
    "    for i in range((N)):\n",
    "    if (points[i].x == P0.x): M= np.inf\n",
    "    else: M = (points[i].y - P0.y) / (points[i].x - P0.x)\n",
    "    pendientes.append(M)\n",
    "\n",
    "    points_M = list(zip(points, pendientes))\n",
    "\n",
    "    result = ordenar_pendientes(points_M)\n",
    "    return result"
   ]
  },
  {
   "cell_type": "code",
   "execution_count": 6,
   "metadata": {
    "colab": {
     "base_uri": "https://localhost:8080/"
    },
    "id": "FWgwEUTefwrQ",
    "outputId": "51bfefc3-9440-4d84-da82-f9fbd4eb8719"
   },
   "outputs": [
    {
     "name": "stdout",
     "output_type": "stream",
     "text": [
      "[(2, 26), (2, 59), (3, 31), (3, 51), (7, 19), (11, 43), (11, 95), (14, 42), (17, 53), (18, 46), (20, 67), (21, 76), (23, 26), (26, 70), (27, 82), (28, 27), (30, 1), (30, 65), (30, 95), (32, 6), (43, 88), (54, 87), (56, 20), (58, 19), (58, 39), (59, 16), (60, 73), (61, 23), (61, 47), (63, 63), (66, 22), (66, 97), (67, 76), (74, 22), (74, 44), (75, 58), (77, 71), (79, 85), (79, 86), (80, 39), (81, 41), (83, 33), (84, 31), (85, 33), (86, 17), (88, 7), (90, 20), (91, 9), (91, 12), (94, 14)]\n"
     ]
    }
   ],
   "source": [
    "#paso1\n",
    "points = Point.generate_random_points(50)\n",
    "points = sort_lexico(points)\n",
    "print(points)\n",
    "P0 = points.pop(0)\n",
    "\n",
    "#paso2\n",
    "points_M = pendientes(points, P0)\n",
    "points, slodes = zip(*points_M)\n",
    "points = list(points)\n",
    "points.insert(0, P0)\n",
    "\n"
   ]
  },
  {
   "cell_type": "code",
   "execution_count": 10,
   "metadata": {
    "colab": {
     "base_uri": "https://localhost:8080/",
     "height": 321
    },
    "id": "ulHsgsPOsF6t",
    "outputId": "e6986e20-586b-47e3-977e-34f0ca3e80e7"
   },
   "outputs": [
    {
     "ename": "AttributeError",
     "evalue": "ignored",
     "output_type": "error",
     "traceback": [
      "\u001b[0;31m---------------------------------------------------------------------------\u001b[0m",
      "\u001b[0;31mAttributeError\u001b[0m                            Traceback (most recent call last)",
      "\u001b[0;32m<ipython-input-10-e72f30e1dfa0>\u001b[0m in \u001b[0;36m<cell line: 1>\u001b[0;34m()\u001b[0m\n\u001b[0;32m----> 1\u001b[0;31m \u001b[0mpoints_M\u001b[0m \u001b[0;34m=\u001b[0m \u001b[0mpendientes\u001b[0m\u001b[0;34m(\u001b[0m\u001b[0mpoints\u001b[0m\u001b[0;34m,\u001b[0m \u001b[0mP0\u001b[0m\u001b[0;34m)\u001b[0m\u001b[0;34m\u001b[0m\u001b[0;34m\u001b[0m\u001b[0m\n\u001b[0m",
      "\u001b[0;32m<ipython-input-5-d8f603fa790f>\u001b[0m in \u001b[0;36mpendientes\u001b[0;34m(points, P0)\u001b[0m\n\u001b[1;32m     25\u001b[0m \u001b[0;34m\u001b[0m\u001b[0m\n\u001b[1;32m     26\u001b[0m   \u001b[0mpoints_M\u001b[0m \u001b[0;34m=\u001b[0m \u001b[0mlist\u001b[0m\u001b[0;34m(\u001b[0m\u001b[0mzip\u001b[0m\u001b[0;34m(\u001b[0m\u001b[0mpoints\u001b[0m\u001b[0;34m,\u001b[0m \u001b[0mpendientes\u001b[0m\u001b[0;34m)\u001b[0m\u001b[0;34m)\u001b[0m\u001b[0;34m\u001b[0m\u001b[0;34m\u001b[0m\u001b[0m\n\u001b[0;32m---> 27\u001b[0;31m   \u001b[0mresult\u001b[0m \u001b[0;34m=\u001b[0m \u001b[0mordenar_pendientes\u001b[0m\u001b[0;34m(\u001b[0m\u001b[0mpoints_M\u001b[0m\u001b[0;34m)\u001b[0m\u001b[0;34m\u001b[0m\u001b[0;34m\u001b[0m\u001b[0m\n\u001b[0m\u001b[1;32m     28\u001b[0m   \u001b[0;32mreturn\u001b[0m \u001b[0mresult\u001b[0m\u001b[0;34m\u001b[0m\u001b[0;34m\u001b[0m\u001b[0m\n",
      "\u001b[0;32m<ipython-input-5-d8f603fa790f>\u001b[0m in \u001b[0;36mordenar_pendientes\u001b[0;34m(points)\u001b[0m\n\u001b[1;32m      7\u001b[0m \u001b[0;34m\u001b[0m\u001b[0m\n\u001b[1;32m      8\u001b[0m       \u001b[0;31m# en caso que si, verificamos cual tiene mayor magnitud\u001b[0m\u001b[0;34m\u001b[0m\u001b[0;34m\u001b[0m\u001b[0m\n\u001b[0;32m----> 9\u001b[0;31m       \u001b[0;32mif\u001b[0m \u001b[0mabs\u001b[0m\u001b[0;34m(\u001b[0m\u001b[0mpoints\u001b[0m\u001b[0;34m[\u001b[0m\u001b[0mcont\u001b[0m\u001b[0;34m]\u001b[0m\u001b[0;34m.\u001b[0m\u001b[0mmagnitud\u001b[0m\u001b[0;34m(\u001b[0m\u001b[0;34m)\u001b[0m\u001b[0;34m)\u001b[0m \u001b[0;34m>=\u001b[0m \u001b[0mabs\u001b[0m\u001b[0;34m(\u001b[0m\u001b[0mpoints\u001b[0m\u001b[0;34m[\u001b[0m\u001b[0mcont\u001b[0m\u001b[0;34m+\u001b[0m\u001b[0;36m1\u001b[0m\u001b[0;34m]\u001b[0m\u001b[0;34m.\u001b[0m\u001b[0mmagnitud\u001b[0m\u001b[0;34m(\u001b[0m\u001b[0;34m)\u001b[0m\u001b[0;34m)\u001b[0m\u001b[0;34m:\u001b[0m \u001b[0mpoints\u001b[0m\u001b[0;34m.\u001b[0m\u001b[0mremove\u001b[0m\u001b[0;34m(\u001b[0m\u001b[0mpoints\u001b[0m\u001b[0;34m[\u001b[0m\u001b[0mcont\u001b[0m \u001b[0;34m+\u001b[0m\u001b[0;36m1\u001b[0m\u001b[0;34m]\u001b[0m\u001b[0;34m)\u001b[0m\u001b[0;34m\u001b[0m\u001b[0;34m\u001b[0m\u001b[0m\n\u001b[0m\u001b[1;32m     10\u001b[0m       \u001b[0;32melse\u001b[0m \u001b[0;34m:\u001b[0m\u001b[0mpoints\u001b[0m\u001b[0;34m.\u001b[0m\u001b[0mremove\u001b[0m\u001b[0;34m(\u001b[0m\u001b[0mpoints\u001b[0m\u001b[0;34m[\u001b[0m\u001b[0mcont\u001b[0m\u001b[0;34m]\u001b[0m\u001b[0;34m)\u001b[0m\u001b[0;34m\u001b[0m\u001b[0;34m\u001b[0m\u001b[0m\n\u001b[1;32m     11\u001b[0m \u001b[0;34m\u001b[0m\u001b[0m\n",
      "\u001b[0;31mAttributeError\u001b[0m: 'tuple' object has no attribute 'magnitud'"
     ]
    }
   ],
   "source": [
    "points_M = pendientes(points, P0)"
   ]
  },
  {
   "cell_type": "code",
   "execution_count": null,
   "metadata": {
    "id": "eXwR0A5lmqxQ"
   },
   "outputs": [],
   "source": [
    "#paso3 a 10\n",
    "def visualization(points, convex):\n",
    "\n",
    "    # Plotting the original points and their coordinates\n",
    "    x = [coor.x for coor in points]\n",
    "    y = [coor.y for coor in points]\n",
    "\n",
    "    # Create a figure and axes\n",
    "    fig, axs = plt.subplots(1, 2, figsize=(12, 6))\n",
    "\n",
    "    # Plot the original points and their x-coordinate labels in the left subplot\n",
    "    axs[1].scatter(x, y, color='blue')\n",
    "\n",
    "    # Add x-coordinate labels\n",
    "    for point in points:\n",
    "        x_label = f\"{point.x:.2f}\"\n",
    "        axs[1].text(point.x, point.y, x_label, ha='center', va='bottom')\n",
    "\n",
    "    axs[0].set_title('Convex Hull')\n",
    "\n",
    "    # Plot the lines connecting the points\n",
    "    for i in range(len(convex) - 1):\n",
    "        axs[0].plot([convex[i].x, convex[i+1].x], [convex[i].y, convex[i+1].y], color='red')\n",
    "\n",
    "    # Plot the convex hull and their x-coordinate labels in the right subplot\n",
    "    x_convex = [coor.x for coor in convex]\n",
    "    y_convex = [coor.y for coor in convex]\n",
    "    axs[1].scatter(x_convex, y_convex, color='blue')\n",
    "\n",
    "    # Add x-coordinate labels\n",
    "    for point in convex:\n",
    "        x_label = f\"{point.x:.2f}\"\n",
    "        axs[0].text(point.x, point.y, x_label, ha='center', va='bottom')\n",
    "\n",
    "    axs[1].set_title('Original Points')\n",
    "\n",
    "    # Plot the original points in the right subplot\n",
    "    axs[0].scatter(x, y, color='blue')\n",
    "\n",
    "    # Show the plot\n",
    "    plt.tight_layout()\n",
    "    plt.show()\n",
    "\n",
    "def convex_hull(points):\n",
    "  stack_s = []\n",
    "  N = len(points)\n",
    "  stack_s.append(points[0])\n",
    "  stack_s.append(points[1])\n",
    "  stack_s.append(points[2])\n",
    "  for i in range(3,N):\n",
    "    #visualization(points, stack_s)\n",
    "    while len(stack_s) >=3 and (check_last3_points(stack_s)):\n",
    "      element = stack_s[-2]\n",
    "      stack_s.remove(element)\n",
    "      #visualization(points, stack_s)\n",
    "    stack_s.append(points[i])\n",
    "\n",
    "  stack_s.append(stack_s[0])\n",
    "\n",
    "\n",
    "  return stack_s\n",
    "\n"
   ]
  },
  {
   "cell_type": "code",
   "execution_count": null,
   "metadata": {
    "id": "Dz_p_o_76OmV"
   },
   "outputs": [],
   "source": [
    "CH = convex_hull(points)\n",
    "CH"
   ]
  },
  {
   "cell_type": "code",
   "execution_count": null,
   "metadata": {
    "id": "NC8l-16qKg3l"
   },
   "outputs": [],
   "source": []
  },
  {
   "cell_type": "code",
   "execution_count": null,
   "metadata": {
    "id": "gRodF8jOK3Xl"
   },
   "outputs": [],
   "source": [
    "visualization(points, CH)"
   ]
  },
  {
   "cell_type": "code",
   "execution_count": null,
   "metadata": {
    "id": "_lhfmlK4LfST"
   },
   "outputs": [],
   "source": []
  }
 ],
 "metadata": {
  "colab": {
   "provenance": []
  },
  "kernelspec": {
   "display_name": "Python 3 (ipykernel)",
   "language": "python",
   "name": "python3"
  },
  "language_info": {
   "codemirror_mode": {
    "name": "ipython",
    "version": 3
   },
   "file_extension": ".py",
   "mimetype": "text/x-python",
   "name": "python",
   "nbconvert_exporter": "python",
   "pygments_lexer": "ipython3",
   "version": "3.10.9"
  }
 },
 "nbformat": 4,
 "nbformat_minor": 1
}
