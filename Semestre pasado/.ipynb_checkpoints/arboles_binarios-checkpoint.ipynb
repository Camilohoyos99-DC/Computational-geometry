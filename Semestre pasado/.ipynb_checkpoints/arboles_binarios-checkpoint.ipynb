{
 "cells": [
  {
   "cell_type": "code",
   "execution_count": 17,
   "id": "bdf4421a",
   "metadata": {},
   "outputs": [],
   "source": [
    "class Node:\n",
    "    def __init__(self,data):\n",
    "        self.data = data\n",
    "        self.right = None\n",
    "        self.left = None\n",
    "        \n",
    "        \n"
   ]
  },
  {
   "cell_type": "code",
   "execution_count": 20,
   "id": "444a5d87",
   "metadata": {},
   "outputs": [],
   "source": [
    "def insertBST(root,node):\n",
    "    if (node.data < root.data):\n",
    "        if root.left is None:\n",
    "            root.left = node\n",
    "        else:\n",
    "            insertBST(root.left,node)\n",
    "    else:\n",
    "        if root.right is None:\n",
    "            root.right = node\n",
    "        else:\n",
    "            insertBST(root.right,node)"
   ]
  },
  {
   "cell_type": "code",
   "execution_count": 21,
   "id": "11c4c86c",
   "metadata": {},
   "outputs": [],
   "source": [
    "root = Node(25)\n",
    "insertBST(root,Node(75))\n",
    "insertBST(root,Node(50))\n",
    "insertBST(root,Node(10))\n",
    "insertBST(root,Node(100))\n",
    "insertBST(root,Node(15))\n",
    "insertBST(root,Node(0))\n",
    "insertBST(root,Node(30))\n",
    "insertBST(root,Node(200))\n",
    "insertBST(root,Node(40))"
   ]
  },
  {
   "cell_type": "code",
   "execution_count": 22,
   "id": "0ecceb51",
   "metadata": {},
   "outputs": [],
   "source": [
    "def preOrder(node):\n",
    "    if not node:\n",
    "        return\n",
    "    print (node.data)\n",
    "    preOrder(node.left)\n",
    "    preOrder(node.right)"
   ]
  },
  {
   "cell_type": "code",
   "execution_count": 23,
   "id": "470d5ede",
   "metadata": {},
   "outputs": [
    {
     "name": "stdout",
     "output_type": "stream",
     "text": [
      "25\n",
      "10\n",
      "0\n",
      "15\n",
      "75\n",
      "50\n",
      "30\n",
      "40\n",
      "100\n",
      "200\n"
     ]
    }
   ],
   "source": [
    "preOrder(root)"
   ]
  },
  {
   "cell_type": "code",
   "execution_count": 28,
   "id": "9b5bfade",
   "metadata": {},
   "outputs": [],
   "source": [
    "def inorder(root):\n",
    "    inorderArr = []\n",
    "    if root.left is not None:\n",
    "        leftInorderArr = inorder(root.left)\n",
    "        inorderArr.extend(leftInorderArr)\n",
    "    inorderArr.append(root.data)\n",
    "    \n",
    "    if root.right is not None:\n",
    "        rightInorderArr = inorder(root.right)\n",
    "        inorderArr.extend(rightInorderArr)\n",
    "        \n",
    "    return inorderArr\n",
    "\n"
   ]
  },
  {
   "cell_type": "code",
   "execution_count": 29,
   "id": "ecd48bd1",
   "metadata": {},
   "outputs": [
    {
     "data": {
      "text/plain": [
       "[0, 10, 15, 25, 30, 40, 50, 75, 100, 200]"
      ]
     },
     "execution_count": 29,
     "metadata": {},
     "output_type": "execute_result"
    }
   ],
   "source": [
    "inorder (root)"
   ]
  },
  {
   "cell_type": "code",
   "execution_count": 34,
   "id": "d8a2d92d",
   "metadata": {},
   "outputs": [],
   "source": [
    "def depth(root):\n",
    "    if root is None: \n",
    "        return -1\n",
    "    leftAns = depth(root.left)\n",
    "    rightAns = depth(root.right)\n",
    "    \n",
    "    return max(leftAns,rightAns) + 1"
   ]
  },
  {
   "cell_type": "code",
   "execution_count": 35,
   "id": "fc2b04f0",
   "metadata": {},
   "outputs": [
    {
     "data": {
      "text/plain": [
       "4"
      ]
     },
     "execution_count": 35,
     "metadata": {},
     "output_type": "execute_result"
    }
   ],
   "source": [
    "depth(root)"
   ]
  },
  {
   "cell_type": "code",
   "execution_count": 40,
   "id": "feb09d1a",
   "metadata": {},
   "outputs": [],
   "source": [
    "def BBT(sortedArr):\n",
    "    if not sortedArr:\n",
    "        return None\n",
    "    mid = int(len(sortedArr)/2)\n",
    "    \n",
    "    newRoot = Node(sortedArr[mid])\n",
    "    newRoot.left = BBT(sortedArr[:mid])\n",
    "    newRoot.right = BBT(sortedArr[mid +1 :])\n",
    "    \n",
    "    return newRoot"
   ]
  },
  {
   "cell_type": "code",
   "execution_count": 42,
   "id": "b2579d89",
   "metadata": {},
   "outputs": [
    {
     "name": "stdout",
     "output_type": "stream",
     "text": [
      "40\n",
      "15\n",
      "10\n",
      "0\n",
      "30\n",
      "25\n",
      "100\n",
      "75\n",
      "50\n",
      "200\n"
     ]
    }
   ],
   "source": [
    "root2 = BBT(inorder(root))\n",
    "preOrder(root2)"
   ]
  },
  {
   "cell_type": "code",
   "execution_count": 43,
   "id": "a724d0df",
   "metadata": {},
   "outputs": [
    {
     "data": {
      "text/plain": [
       "3"
      ]
     },
     "execution_count": 43,
     "metadata": {},
     "output_type": "execute_result"
    }
   ],
   "source": [
    "depth(root2)"
   ]
  },
  {
   "cell_type": "code",
   "execution_count": null,
   "id": "42c29fb2",
   "metadata": {},
   "outputs": [],
   "source": []
  }
 ],
 "metadata": {
  "kernelspec": {
   "display_name": "Python 3 (ipykernel)",
   "language": "python",
   "name": "python3"
  },
  "language_info": {
   "codemirror_mode": {
    "name": "ipython",
    "version": 3
   },
   "file_extension": ".py",
   "mimetype": "text/x-python",
   "name": "python",
   "nbconvert_exporter": "python",
   "pygments_lexer": "ipython3",
   "version": "3.10.9"
  }
 },
 "nbformat": 4,
 "nbformat_minor": 5
}
