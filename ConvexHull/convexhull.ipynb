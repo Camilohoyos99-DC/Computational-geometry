{
 "cells": [
  {
   "cell_type": "code",
   "execution_count": 1,
   "id": "70e6c25a",
   "metadata": {
    "tags": []
   },
   "outputs": [],
   "source": [
    "import numpy as np\n",
    "import matplotlib.pyplot as plt"
   ]
  },
  {
   "cell_type": "code",
   "execution_count": null,
   "id": "543b2250",
   "metadata": {
    "tags": []
   },
   "outputs": [],
   "source": []
  },
  {
   "cell_type": "code",
   "execution_count": 2,
   "id": "5030a420-a07f-40f0-a934-15094c4bf9fb",
   "metadata": {},
   "outputs": [],
   "source": [
    "class Points:\n",
    "    def __init__(self, coordinates):\n",
    "        self.x = coordinates[0]\n",
    "        self.y = coordinates[1]\n",
    " "
   ]
  },
  {
   "cell_type": "code",
   "execution_count": 3,
   "id": "727bdb56-0e75-4e0e-ab5f-233dced5eae7",
   "metadata": {
    "tags": []
   },
   "outputs": [],
   "source": [
    "def generate_random_coordinates(N, low_value, hight_value, integer = False): \n",
    "    #genera puntos aleatorios sean enteros o flotantes\n",
    "    coordinates = []\n",
    "    if integer == True:\n",
    "        for i in range(N):\n",
    "            x = int(np.random.uniform(low_value, hight_value))\n",
    "            y = int(np.random.uniform(low_value, hight_value))\n",
    "            coordinates.append((x, y))\n",
    "    else:\n",
    "        for i in range(N):\n",
    "            x = np.random.uniform(low_value, hight_value)\n",
    "            y = np.random.uniform(low_value, hight_value)\n",
    "            coordinates.append((x, y))\n",
    "    return coordinates\n",
    "\n",
    "def order_points(points):# primera forma de ordenar solo en el eje x \n",
    "    # se basa en usar el quick sort de numpy y una copia ordenada del arreglo con cual comparar y ordenar\n",
    "    #uno nuevo\n",
    "    \n",
    "    ref_points = (list(zip(*points)))\n",
    "    order_x_points = np.sort(ref_points[0])\n",
    "    new_points = []\n",
    "    for i in range(len(order_x_points)):\n",
    "        index = np.where(ref_points[0] == order_x_points[i])[0][0]\n",
    "        new_points.append(points[index])\n",
    "    return new_points\n",
    "\n",
    "\n",
    "def sort_lexico(points):# se usa la funcion lambda y el sort de python para ordenar los puntos\n",
    "    sorted_lst = sorted(points, key=lambda x: (x[0], x[1]))\n",
    "\n",
    "    return sorted_lst\n",
    "\n",
    "def show(points):# muestra los puntos, le entra un arreglo de la clase Puntos\n",
    "    for i in points:\n",
    "        print(\"(\",i.x,\",\",i.y,\")\")\n",
    "\n",
    "def cross_product(p, q, t): #cross product basado en el segmento de linea pq y el punto t, (TODOS son objetos Puntos)\n",
    "    p1 = (q.x - p.x) * (t.y - p.y)\n",
    "    p2 = (q.y - p.y) * (t.x - p.x)\n",
    "    cross_product = p1 - p2\n",
    "    \n",
    "    if cross_product > 0:\n",
    "        return -1          #\"Antihorario\"\n",
    "    elif cross_product < 0:\n",
    "        return 1            #\"Horario\"\n",
    "    else:\n",
    "        return 0            #\"Colineal\"\n",
    "    \n",
    "def check_last3_points(points): # detecta si se agregó algún punto que generó un giro antihorario\n",
    "    pn = points[-1]\n",
    "    pn_1 = points[-2]\n",
    "    pn_2 = points[-3]\n",
    "    cross = cross_product(pn_2,pn_1,pn)\n",
    "    if cross == 1 or cross == 0:\n",
    "        #print (\"giro a la derecha (horario)\")\n",
    "        return 1\n",
    "    else:\n",
    "        #print (\"giro a la izquierda (antihorario)\")\n",
    "        return 0"
   ]
  },
  {
   "cell_type": "code",
   "execution_count": 4,
   "id": "7830affc-6806-4879-b570-bf310c3a5cea",
   "metadata": {
    "tags": []
   },
   "outputs": [
    {
     "name": "stdout",
     "output_type": "stream",
     "text": [
      "( 0.05801053839656678 , 8.582407572504415 )\n",
      "( 0.06812819751748633 , 3.8077565671594202 )\n",
      "( 0.24334970961558233 , 4.91966154611638 )\n",
      "( 0.9213016275441188 , 4.892993161028948 )\n",
      "( 0.9294836826227093 , 1.7278991925432052 )\n",
      "( 0.9793574883963163 , 1.5926348629316567 )\n",
      "( 1.0612501720136347 , 8.214860358690416 )\n",
      "( 2.635665548487318 , 2.220250433752442 )\n",
      "( 2.6390788341637963 , 0.5484583187572467 )\n",
      "( 2.9016837963057727 , 3.756663275230201 )\n",
      "( 3.427137234255453 , 0.9978839479533141 )\n",
      "( 3.519575610228461 , 1.1230046383583892 )\n",
      "( 3.6236694351342758 , 3.8831326185720116 )\n",
      "( 4.238801425098453 , 0.31869287139631663 )\n",
      "( 4.289965360568622 , 8.203920274366318 )\n",
      "( 4.735484945485369 , 6.907294352465698 )\n",
      "( 5.467206899151008 , 6.010303298498049 )\n",
      "( 5.477718428742278 , 5.750960617462043 )\n",
      "( 5.485979569123791 , 4.394628074471106 )\n",
      "( 5.502398362922878 , 0.3841190930982885 )\n",
      "( 5.572656770085683 , 5.84472593222085 )\n",
      "( 6.3183185262661015 , 7.987640893058358 )\n",
      "( 6.908504095596504 , 9.959259512279932 )\n",
      "( 6.970432918576844 , 8.251848397507466 )\n",
      "( 7.008401932114895 , 0.21093943980063257 )\n",
      "( 7.1351895087756745 , 1.3526273916789922 )\n",
      "( 7.1364355471385545 , 5.80443591570541 )\n",
      "( 7.237608242660437 , 6.632421736411497 )\n",
      "( 7.696190402091325 , 3.29440255831164 )\n",
      "( 7.7458416498266525 , 3.8738406547073287 )\n",
      "( 7.941649650271051 , 0.20820875197492428 )\n",
      "( 8.028939778245684 , 6.814224496771085 )\n",
      "( 8.133666138033908 , 7.3400588075677975 )\n",
      "( 8.2052629791709 , 3.150050195222117 )\n",
      "( 8.587786495046087 , 0.6590701807637667 )\n",
      "( 8.670465499337027 , 2.2510322318410534 )\n",
      "( 8.690877898892245 , 8.232197362165032 )\n",
      "( 9.006212034143244 , 4.272951892009922 )\n",
      "( 9.361720280152348 , 3.8837993314369634 )\n",
      "( 9.79236768988928 , 8.443037397191599 )\n"
     ]
    }
   ],
   "source": [
    "points = generate_random_coordinates(40, 0, 10)\n",
    "points = sort_lexico(points)\n",
    "#points = order_points(points)\n",
    "points = [Points(coord) for coord in points]\n",
    "show(points)"
   ]
  },
  {
   "cell_type": "code",
   "execution_count": 5,
   "id": "a519dc15-dcb3-4fd6-a3e8-0ab07b359c7a",
   "metadata": {
    "tags": []
   },
   "outputs": [],
   "source": [
    "def convex_hull(points, step_by_step =0):\n",
    "    upper = []\n",
    "    lower = []\n",
    "    n = len(points)\n",
    "    upper.append(points[0])\n",
    "    upper.append(points[1])\n",
    "    for i in range(2,n):\n",
    "        upper.append(points[i])\n",
    "        if step_by_step == True:\n",
    "            visualization(points,upper,\"upper\")\n",
    "            \n",
    "        while len(upper) > 2 and not (check_last3_points(upper)):\n",
    "            element = upper[-2]\n",
    "            upper.remove(element)\n",
    "    if step_by_step == True:\n",
    "        visualization(points,upper,\"upper\")\n",
    "        \n",
    "    print(len(upper))    \n",
    "    lower.append(points[-1])\n",
    "    lower.append(points[-2])\n",
    "    print(\"________________aquí empieza el lower________________\")\n",
    "    for i in range(n-3,0 ,-1):\n",
    "        lower.append(points[i])\n",
    "        if step_by_step == True:\n",
    "            visualization(points,lower,\"lower\")\n",
    "        while len(lower) > 2 and not(check_last3_points(lower)):\n",
    "            element = lower[-2]\n",
    "            lower.remove(element)\n",
    "    if step_by_step == True:\n",
    "        visualization(points,lower,\"lower\")\n",
    "        \n",
    "    convexh = (upper + lower) + [upper[0]]\n",
    "    return convexh"
   ]
  },
  {
   "cell_type": "code",
   "execution_count": 6,
   "id": "8a397c54",
   "metadata": {},
   "outputs": [],
   "source": [
    "# def check_last3_points(points): # detecta si se agregó algún punto que generó un giro antihorario\n",
    "#     pn = points[-1]\n",
    "#     pn_1 = points[-2]\n",
    "#     pn_2 = points[-3]\n",
    "#     cross = cross_product(pn_2,pn_1,pn)\n",
    "#     if cross > 0:\n",
    "#         return 1            # \"Giro a la izquierda (antihorario)\"\n",
    "#     elif cross < 0:\n",
    "#         return -1           # \"Giro a la derecha (horario)\"\n",
    "#     else:\n",
    "#         return 0    \n",
    "    \n",
    "# def convex_hull(points, step_by_step =0):\n",
    "#     upper = []\n",
    "#     lower = []\n",
    "#     n = len(points)\n",
    "#     upper.append(points[0])\n",
    "#     upper.append(points[1])\n",
    "#     for i in range(2,n):\n",
    "#         upper.append(points[i])\n",
    "#         if step_by_step == True:\n",
    "#             visualization(points,upper,\"upper\")\n",
    "\n",
    "#         while len(upper) > 2 and not (check_last3_points(upper)<= 0):\n",
    "#             element = upper[-2]\n",
    "#             upper.remove(element)\n",
    "#     if step_by_step == True:\n",
    "#         visualization(points,upper,\"upper\")\n",
    "\n",
    "#     print(len(upper))    \n",
    "#     lower.append(points[-1])\n",
    "#     lower.append(points[-2])\n",
    "#     print(\"________________aquí empieza el lower________________\")\n",
    "#     for i in range(n-3,0 ,-1):\n",
    "#         lower.append(points[i])\n",
    "#         if step_by_step == True:\n",
    "#             visualization(points,lower,\"lower\")\n",
    "#         while len(lower) > 2 and not(check_last3_points(lower)<= 0):\n",
    "#             element = lower[-2]\n",
    "#             lower.remove(element)\n",
    "#     if step_by_step == True:\n",
    "#         visualization(points,lower,\"lower\")\n",
    "\n",
    "#     convexh = (upper + lower) + [upper[0]]\n",
    "#     return convexh"
   ]
  },
  {
   "cell_type": "code",
   "execution_count": 7,
   "id": "4a943f74-72f6-43c8-8700-ff092c1740d2",
   "metadata": {
    "tags": []
   },
   "outputs": [],
   "source": [
    "def visualization(points, convex, label):\n",
    "    print(label)\n",
    "    \n",
    "    # Plotting the original points and their coordinates\n",
    "    x = [coor.x for coor in points]\n",
    "    y = [coor.y for coor in points]\n",
    "    \n",
    "    # Create a figure and axes\n",
    "    fig, axs = plt.subplots(1, 2, figsize=(12, 6))\n",
    "\n",
    "    # Plot the original points and their x-coordinate labels in the left subplot\n",
    "    axs[1].scatter(x, y, color='blue')\n",
    "    \n",
    "    # Add x-coordinate labels\n",
    "    for point in points:\n",
    "        x_label = f\"{point.x:.2f}\"\n",
    "        axs[1].text(point.x, point.y, x_label, ha='center', va='bottom')\n",
    "        \n",
    "    axs[0].set_title('Convex Hull')\n",
    "\n",
    "    # Plot the lines connecting the points\n",
    "    for i in range(len(convex) - 1):\n",
    "        axs[0].plot([convex[i].x, convex[i+1].x], [convex[i].y, convex[i+1].y], color='red')\n",
    "\n",
    "    # Plot the convex hull and their x-coordinate labels in the right subplot\n",
    "    x_convex = [coor.x for coor in convex]\n",
    "    y_convex = [coor.y for coor in convex]\n",
    "    axs[1].scatter(x_convex, y_convex, color='blue')\n",
    "    \n",
    "    # Add x-coordinate labels\n",
    "    for point in convex:\n",
    "        x_label = f\"{point.x:.2f}\"\n",
    "        axs[0].text(point.x, point.y, x_label, ha='center', va='bottom')\n",
    "    \n",
    "    axs[1].set_title('Original Points')\n",
    "\n",
    "    # Plot the original points in the right subplot\n",
    "    axs[0].scatter(x, y, color='blue')\n",
    "\n",
    "    # Show the plot\n",
    "    plt.tight_layout()\n",
    "    plt.show()\n"
   ]
  },
  {
   "cell_type": "code",
   "execution_count": 8,
   "id": "7c047d36",
   "metadata": {
    "scrolled": true
   },
   "outputs": [
    {
     "name": "stdout",
     "output_type": "stream",
     "text": [
      "3\n",
      "________________aquí empieza el lower________________\n",
      "convex\n"
     ]
    },
    {
     "data": {
      "image/png": "[encoded data removed]",
      "text/plain": [
       "<Figure size 1200x600 with 2 Axes>"
      ]
     },
     "metadata": {},
     "output_type": "display_data"
    }
   ],
   "source": [
    "convex = convex_hull(points)\n",
    "visualization(points,convex,\"convex\")"
   ]
  },
  {
   "cell_type": "code",
   "execution_count": 9,
   "id": "8293ee9e",
   "metadata": {},
   "outputs": [
    {
     "data": {
      "text/plain": [
       "[<__main__.Points at 0x1848d2cf1f0>,\n",
       " <__main__.Points at 0x1848d2ce950>,\n",
       " <__main__.Points at 0x1848d2cfc10>,\n",
       " <__main__.Points at 0x1848d2cfc10>,\n",
       " <__main__.Points at 0x1848d2cf4f0>,\n",
       " <__main__.Points at 0x1848d2ceb60>,\n",
       " <__main__.Points at 0x1848d2ceb30>,\n",
       " <__main__.Points at 0x1848d2ce980>,\n",
       " <__main__.Points at 0x1848d2cf730>,\n",
       " <__main__.Points at 0x1848d2cfac0>,\n",
       " <__main__.Points at 0x1848d2ce440>,\n",
       " <__main__.Points at 0x1848d2cf970>,\n",
       " <__main__.Points at 0x1848d2cf1f0>]"
      ]
     },
     "execution_count": 9,
     "metadata": {},
     "output_type": "execute_result"
    }
   ],
   "source": [
    "convex"
   ]
  },
  {
   "cell_type": "code",
   "execution_count": null,
   "id": "56f58253",
   "metadata": {},
   "outputs": [],
   "source": []
  },
  {
   "cell_type": "code",
   "execution_count": null,
   "id": "504e262d",
   "metadata": {},
   "outputs": [],
   "source": []
  },
  {
   "cell_type": "code",
   "execution_count": null,
   "id": "b782a919",
   "metadata": {},
   "outputs": [],
   "source": []
  },
  {
   "cell_type": "code",
   "execution_count": null,
   "id": "74d81fdf",
   "metadata": {},
   "outputs": [],
   "source": []
  },
  {
   "cell_type": "code",
   "execution_count": null,
   "id": "c4a81b43",
   "metadata": {},
   "outputs": [],
   "source": []
  },
  {
   "cell_type": "code",
   "execution_count": null,
   "id": "911fa1ae",
   "metadata": {},
   "outputs": [],
   "source": []
  },
  {
   "cell_type": "code",
   "execution_count": null,
   "id": "b56f6e79",
   "metadata": {},
   "outputs": [],
   "source": []
  },
  {
   "cell_type": "code",
   "execution_count": null,
   "id": "744139cf",
   "metadata": {},
   "outputs": [],
   "source": []
  },
  {
   "cell_type": "code",
   "execution_count": null,
   "id": "ba487bc3",
   "metadata": {},
   "outputs": [],
   "source": []
  }
 ],
 "metadata": {
  "kernelspec": {
   "display_name": "Python 3 (ipykernel)",
   "language": "python",
   "name": "python3"
  },
  "language_info": {
   "codemirror_mode": {
    "name": "ipython",
    "version": 3
   },
   "file_extension": ".py",
   "mimetype": "text/x-python",
   "name": "python",
   "nbconvert_exporter": "python",
   "pygments_lexer": "ipython3",
   "version": "3.10.9"
  },
  "toc-autonumbering": true,
  "toc-showmarkdowntxt": true,
  "toc-showtags": true
 },
 "nbformat": 4,
 "nbformat_minor": 5
}
